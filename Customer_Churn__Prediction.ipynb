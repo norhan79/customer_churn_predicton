{
  "nbformat": 4,
  "nbformat_minor": 0,
  "metadata": {
    "colab": {
      "provenance": []
    },
    "kernelspec": {
      "name": "python3",
      "display_name": "Python 3"
    },
    "language_info": {
      "name": "python"
    }
  },
  "cells": [
    {
      "cell_type": "markdown",
      "source": [
        "**importing Libraries**"
      ],
      "metadata": {
        "id": "ZoFVAxUv2Rwu"
      }
    },
    {
      "cell_type": "code",
      "source": [
        "!pip install -U imbalanced-learn"
      ],
      "metadata": {
        "id": "FT9nXDGVGaky",
        "colab": {
          "base_uri": "https://localhost:8080/"
        },
        "outputId": "a601c484-f670-4969-b05f-531ad1271001"
      },
      "execution_count": 1,
      "outputs": [
        {
          "output_type": "stream",
          "name": "stdout",
          "text": [
            "Requirement already satisfied: imbalanced-learn in /usr/local/lib/python3.11/dist-packages (0.13.0)\n",
            "Requirement already satisfied: numpy<3,>=1.24.3 in /usr/local/lib/python3.11/dist-packages (from imbalanced-learn) (2.0.2)\n",
            "Requirement already satisfied: scipy<2,>=1.10.1 in /usr/local/lib/python3.11/dist-packages (from imbalanced-learn) (1.15.3)\n",
            "Requirement already satisfied: scikit-learn<2,>=1.3.2 in /usr/local/lib/python3.11/dist-packages (from imbalanced-learn) (1.6.1)\n",
            "Requirement already satisfied: sklearn-compat<1,>=0.1 in /usr/local/lib/python3.11/dist-packages (from imbalanced-learn) (0.1.3)\n",
            "Requirement already satisfied: joblib<2,>=1.1.1 in /usr/local/lib/python3.11/dist-packages (from imbalanced-learn) (1.5.0)\n",
            "Requirement already satisfied: threadpoolctl<4,>=2.0.0 in /usr/local/lib/python3.11/dist-packages (from imbalanced-learn) (3.6.0)\n"
          ]
        }
      ]
    },
    {
      "cell_type": "code",
      "execution_count": 2,
      "metadata": {
        "id": "bB3A-ignqiRP"
      },
      "outputs": [],
      "source": [
        "import pandas as pd\n",
        "import seaborn as sns\n",
        "import matplotlib.pyplot as plt\n",
        "import pandas as pd\n",
        "from sklearn.preprocessing import OneHotEncoder\n",
        "from sklearn.compose import ColumnTransformer\n",
        "from sklearn.model_selection import train_test_split\n",
        "import numpy as np\n",
        "import matplotlib.pyplot as plt\n",
        "import seaborn as sns\n",
        "from sklearn.preprocessing import MinMaxScaler, RobustScaler, OneHotEncoder\n",
        "from sklearn.pipeline import Pipeline\n",
        "from sklearn.linear_model import LogisticRegression\n",
        "from sklearn.model_selection import GridSearchCV\n",
        "from sklearn.metrics import classification_report, confusion_matrix, roc_auc_score\n",
        "from sklearn.ensemble import RandomForestClassifier\n",
        "from xgboost import XGBClassifier\n",
        "from sklearn.model_selection import GridSearchCV\n",
        "from imblearn.over_sampling import SMOTE\n",
        "from imblearn.pipeline import Pipeline as ImbPipeline\n",
        "from sklearn.preprocessing import LabelEncoder\n",
        "from IPython.display import display\n",
        "import joblib\n",
        "# Apply nest_asyncio so uvicorn can run inside notebook\n",
        "from pydantic import BaseModel\n",
        "\n",
        "\n",
        "from threading import Thread\n",
        "import requests\n",
        "\n",
        "from imblearn.pipeline import Pipeline as ImbPipeline\n",
        "from sklearn.pipeline import Pipeline\n",
        "from lightgbm import LGBMClassifier\n",
        "from xgboost import XGBClassifier\n",
        "from sklearn.ensemble import RandomForestClassifier, StackingClassifier"
      ]
    },
    {
      "cell_type": "markdown",
      "source": [
        "# **Reading Data**"
      ],
      "metadata": {
        "id": "vTiwc_BL4kvY"
      }
    },
    {
      "cell_type": "code",
      "source": [
        "data=pd.read_csv(\"/content/WA_Fn-UseC_-Telco-Customer-Churn.csv\")"
      ],
      "metadata": {
        "id": "EcPSvbeIsX-3"
      },
      "execution_count": 3,
      "outputs": []
    },
    {
      "cell_type": "code",
      "source": [
        "data.info()"
      ],
      "metadata": {
        "colab": {
          "base_uri": "https://localhost:8080/"
        },
        "id": "YdIE1rXQsc2O",
        "outputId": "5ae3241a-7158-44d1-c0ae-a1114f830d3c"
      },
      "execution_count": 4,
      "outputs": [
        {
          "output_type": "stream",
          "name": "stdout",
          "text": [
            "<class 'pandas.core.frame.DataFrame'>\n",
            "RangeIndex: 7043 entries, 0 to 7042\n",
            "Data columns (total 21 columns):\n",
            " #   Column            Non-Null Count  Dtype  \n",
            "---  ------            --------------  -----  \n",
            " 0   customerID        7043 non-null   object \n",
            " 1   gender            7043 non-null   object \n",
            " 2   SeniorCitizen     7043 non-null   int64  \n",
            " 3   Partner           7043 non-null   object \n",
            " 4   Dependents        7043 non-null   object \n",
            " 5   tenure            7043 non-null   int64  \n",
            " 6   PhoneService      7043 non-null   object \n",
            " 7   MultipleLines     7043 non-null   object \n",
            " 8   InternetService   7043 non-null   object \n",
            " 9   OnlineSecurity    7043 non-null   object \n",
            " 10  OnlineBackup      7043 non-null   object \n",
            " 11  DeviceProtection  7043 non-null   object \n",
            " 12  TechSupport       7043 non-null   object \n",
            " 13  StreamingTV       7043 non-null   object \n",
            " 14  StreamingMovies   7043 non-null   object \n",
            " 15  Contract          7043 non-null   object \n",
            " 16  PaperlessBilling  7043 non-null   object \n",
            " 17  PaymentMethod     7043 non-null   object \n",
            " 18  MonthlyCharges    7043 non-null   float64\n",
            " 19  TotalCharges      7043 non-null   object \n",
            " 20  Churn             7043 non-null   object \n",
            "dtypes: float64(1), int64(2), object(18)\n",
            "memory usage: 1.1+ MB\n"
          ]
        }
      ]
    },
    {
      "cell_type": "markdown",
      "source": [
        "\n",
        "\n",
        "* SeniorCitizen : age 65 or older\n",
        "*  tenure : Number of months the customer has stayed with the company\n",
        "\n",
        "\n",
        "\n",
        "\n",
        "\n"
      ],
      "metadata": {
        "id": "hGB4_q8Du4XL"
      }
    },
    {
      "cell_type": "code",
      "source": [
        "data.iloc[0]"
      ],
      "metadata": {
        "colab": {
          "base_uri": "https://localhost:8080/",
          "height": 742
        },
        "id": "E5oIccY7tMlc",
        "outputId": "456e901b-6e9b-4f0d-d0a5-f3ff5188a30f"
      },
      "execution_count": 5,
      "outputs": [
        {
          "output_type": "execute_result",
          "data": {
            "text/plain": [
              "customerID                7590-VHVEG\n",
              "gender                        Female\n",
              "SeniorCitizen                      0\n",
              "Partner                          Yes\n",
              "Dependents                        No\n",
              "tenure                             1\n",
              "PhoneService                      No\n",
              "MultipleLines       No phone service\n",
              "InternetService                  DSL\n",
              "OnlineSecurity                    No\n",
              "OnlineBackup                     Yes\n",
              "DeviceProtection                  No\n",
              "TechSupport                       No\n",
              "StreamingTV                       No\n",
              "StreamingMovies                   No\n",
              "Contract              Month-to-month\n",
              "PaperlessBilling                 Yes\n",
              "PaymentMethod       Electronic check\n",
              "MonthlyCharges                 29.85\n",
              "TotalCharges                   29.85\n",
              "Churn                             No\n",
              "Name: 0, dtype: object"
            ],
            "text/html": [
              "<div>\n",
              "<style scoped>\n",
              "    .dataframe tbody tr th:only-of-type {\n",
              "        vertical-align: middle;\n",
              "    }\n",
              "\n",
              "    .dataframe tbody tr th {\n",
              "        vertical-align: top;\n",
              "    }\n",
              "\n",
              "    .dataframe thead th {\n",
              "        text-align: right;\n",
              "    }\n",
              "</style>\n",
              "<table border=\"1\" class=\"dataframe\">\n",
              "  <thead>\n",
              "    <tr style=\"text-align: right;\">\n",
              "      <th></th>\n",
              "      <th>0</th>\n",
              "    </tr>\n",
              "  </thead>\n",
              "  <tbody>\n",
              "    <tr>\n",
              "      <th>customerID</th>\n",
              "      <td>7590-VHVEG</td>\n",
              "    </tr>\n",
              "    <tr>\n",
              "      <th>gender</th>\n",
              "      <td>Female</td>\n",
              "    </tr>\n",
              "    <tr>\n",
              "      <th>SeniorCitizen</th>\n",
              "      <td>0</td>\n",
              "    </tr>\n",
              "    <tr>\n",
              "      <th>Partner</th>\n",
              "      <td>Yes</td>\n",
              "    </tr>\n",
              "    <tr>\n",
              "      <th>Dependents</th>\n",
              "      <td>No</td>\n",
              "    </tr>\n",
              "    <tr>\n",
              "      <th>tenure</th>\n",
              "      <td>1</td>\n",
              "    </tr>\n",
              "    <tr>\n",
              "      <th>PhoneService</th>\n",
              "      <td>No</td>\n",
              "    </tr>\n",
              "    <tr>\n",
              "      <th>MultipleLines</th>\n",
              "      <td>No phone service</td>\n",
              "    </tr>\n",
              "    <tr>\n",
              "      <th>InternetService</th>\n",
              "      <td>DSL</td>\n",
              "    </tr>\n",
              "    <tr>\n",
              "      <th>OnlineSecurity</th>\n",
              "      <td>No</td>\n",
              "    </tr>\n",
              "    <tr>\n",
              "      <th>OnlineBackup</th>\n",
              "      <td>Yes</td>\n",
              "    </tr>\n",
              "    <tr>\n",
              "      <th>DeviceProtection</th>\n",
              "      <td>No</td>\n",
              "    </tr>\n",
              "    <tr>\n",
              "      <th>TechSupport</th>\n",
              "      <td>No</td>\n",
              "    </tr>\n",
              "    <tr>\n",
              "      <th>StreamingTV</th>\n",
              "      <td>No</td>\n",
              "    </tr>\n",
              "    <tr>\n",
              "      <th>StreamingMovies</th>\n",
              "      <td>No</td>\n",
              "    </tr>\n",
              "    <tr>\n",
              "      <th>Contract</th>\n",
              "      <td>Month-to-month</td>\n",
              "    </tr>\n",
              "    <tr>\n",
              "      <th>PaperlessBilling</th>\n",
              "      <td>Yes</td>\n",
              "    </tr>\n",
              "    <tr>\n",
              "      <th>PaymentMethod</th>\n",
              "      <td>Electronic check</td>\n",
              "    </tr>\n",
              "    <tr>\n",
              "      <th>MonthlyCharges</th>\n",
              "      <td>29.85</td>\n",
              "    </tr>\n",
              "    <tr>\n",
              "      <th>TotalCharges</th>\n",
              "      <td>29.85</td>\n",
              "    </tr>\n",
              "    <tr>\n",
              "      <th>Churn</th>\n",
              "      <td>No</td>\n",
              "    </tr>\n",
              "  </tbody>\n",
              "</table>\n",
              "</div><br><label><b>dtype:</b> object</label>"
            ]
          },
          "metadata": {},
          "execution_count": 5
        }
      ]
    },
    {
      "cell_type": "markdown",
      "source": [
        "# **EDA**"
      ],
      "metadata": {
        "id": "2Cj5BoiHGfGm"
      }
    },
    {
      "cell_type": "markdown",
      "source": [
        "## Customer Churn Distribution"
      ],
      "metadata": {
        "id": "_CZKqJlIHf5I"
      }
    },
    {
      "cell_type": "code",
      "source": [
        "plt.figure(figsize=(6,4))\n",
        "sns.countplot(data=data, x='Churn', palette='Set2')\n",
        "plt.title('Customer Churn Distribution')\n",
        "plt.xlabel('Churn')\n",
        "plt.ylabel('Count')\n",
        "plt.show()\n"
      ],
      "metadata": {
        "colab": {
          "base_uri": "https://localhost:8080/",
          "height": 521
        },
        "id": "IQFBA4g_tPhR",
        "outputId": "7ac45f2e-6e7e-46cc-c34b-bb367d31c098"
      },
      "execution_count": 6,
      "outputs": [
        {
          "output_type": "stream",
          "name": "stderr",
          "text": [
            "<ipython-input-6-b88bbdf8d85a>:2: FutureWarning: \n",
            "\n",
            "Passing `palette` without assigning `hue` is deprecated and will be removed in v0.14.0. Assign the `x` variable to `hue` and set `legend=False` for the same effect.\n",
            "\n",
            "  sns.countplot(data=data, x='Churn', palette='Set2')\n"
          ]
        },
        {
          "output_type": "display_data",
          "data": {
            "text/plain": [
              "<Figure size 600x400 with 1 Axes>"
            ],
            "image/png": "[encoded data removed]"
          },
          "metadata": {}
        }
      ]
    },
    {
      "cell_type": "markdown",
      "source": [
        "## **Customer Churn Distribution (Percentage)**"
      ],
      "metadata": {
        "id": "SIj2NNKhHpRZ"
      }
    },
    {
      "cell_type": "code",
      "source": [
        "churn_percent = data['Churn'].value_counts(normalize=True) * 100\n",
        "\n",
        "plt.figure(figsize=(6,6))\n",
        "plt.pie(churn_percent, labels=churn_percent.index, autopct='%1.1f%%', colors=['skyblue', 'salmon'], startangle=90)\n",
        "plt.title('Customer Churn Distribution (Percentage)')\n",
        "plt.axis('equal')  # Equal aspect ratio makes the pie chart circular\n",
        "plt.show()\n"
      ],
      "metadata": {
        "colab": {
          "base_uri": "https://localhost:8080/",
          "height": 521
        },
        "id": "hOLWpagJvtI8",
        "outputId": "7d30b1a1-eff6-43e9-c9b5-e81ebc15a0b4"
      },
      "execution_count": 7,
      "outputs": [
        {
          "output_type": "display_data",
          "data": {
            "text/plain": [
              "<Figure size 600x600 with 1 Axes>"
            ],
            "image/png": "[encoded data removed]"
          },
          "metadata": {}
        }
      ]
    },
    {
      "cell_type": "markdown",
      "source": [
        "### **Customer Gender percent  Distribution (Percentage)**"
      ],
      "metadata": {
        "id": "f_BgUPprId9b"
      }
    },
    {
      "cell_type": "code",
      "source": [
        "gender_percent = data['gender'].value_counts(normalize=True) * 100\n",
        "\n",
        "plt.figure(figsize=(6,6))\n",
        "plt.pie(gender_percent, labels=gender_percent.index, autopct='%1.1f%%', colors=['skyblue', 'salmon'], startangle=90)\n",
        "plt.title('Customer Gender percent  Distribution (Percentage)')\n",
        "plt.axis('equal')  # Equal aspect ratio makes the pie chart circular\n",
        "plt.show()\n"
      ],
      "metadata": {
        "colab": {
          "base_uri": "https://localhost:8080/",
          "height": 521
        },
        "id": "H5le6__2Dy0-",
        "outputId": "cce7cfd1-deb1-4972-e44d-7429c03f0f57"
      },
      "execution_count": 8,
      "outputs": [
        {
          "output_type": "display_data",
          "data": {
            "text/plain": [
              "<Figure size 600x600 with 1 Axes>"
            ],
            "image/png": "[encoded data removed]"
          },
          "metadata": {}
        }
      ]
    },
    {
      "cell_type": "markdown",
      "source": [
        "## **Churn Percentage of Male and Female Customers**"
      ],
      "metadata": {
        "id": "khPwnYaLLAVv"
      }
    },
    {
      "cell_type": "code",
      "source": [
        "male_churn_counts = data[data['gender'] == 'Male']['Churn'].value_counts(normalize=True) * 100\n",
        "\n",
        "# Plotting\n",
        "male_churn_counts.plot(kind='bar', color=['skyblue', 'salmon'])\n",
        "plt.title('Churn Percentage of Male Customers')\n",
        "plt.xlabel('Churn')\n",
        "plt.ylabel('Percentage (%)')\n",
        "plt.xticks(rotation=0)\n",
        "plt.ylim(0, 100)\n",
        "plt.grid(axis='y', linestyle='--', alpha=0.7)\n",
        "plt.tight_layout()\n",
        "plt.show()\n"
      ],
      "metadata": {
        "colab": {
          "base_uri": "https://localhost:8080/",
          "height": 487
        },
        "id": "yBlTaEgJKKsz",
        "outputId": "e93335ff-4bd1-4118-afaa-fa3de41bb82a"
      },
      "execution_count": 9,
      "outputs": [
        {
          "output_type": "display_data",
          "data": {
            "text/plain": [
              "<Figure size 640x480 with 1 Axes>"
            ],
            "image/png": "[encoded data removed]"
          },
          "metadata": {}
        }
      ]
    },
    {
      "cell_type": "markdown",
      "source": [
        "## **Tenure vs. Churn**"
      ],
      "metadata": {
        "id": "IkVy2N4HLMSm"
      }
    },
    {
      "cell_type": "code",
      "source": [
        "plt.figure(figsize=(8, 5))\n",
        "sns.boxplot(data=data, x='Churn', y='tenure', palette='Set2')\n",
        "plt.title('Tenure vs. Churn')\n",
        "plt.xlabel('Churn')\n",
        "plt.ylabel('Tenure (Months)')\n",
        "plt.show()\n"
      ],
      "metadata": {
        "colab": {
          "base_uri": "https://localhost:8080/",
          "height": 598
        },
        "id": "R68LvmhyEejP",
        "outputId": "72fe2514-ece4-499a-f81f-669bf2a88f2f"
      },
      "execution_count": 10,
      "outputs": [
        {
          "output_type": "stream",
          "name": "stderr",
          "text": [
            "<ipython-input-10-eaa4abb4890a>:2: FutureWarning: \n",
            "\n",
            "Passing `palette` without assigning `hue` is deprecated and will be removed in v0.14.0. Assign the `x` variable to `hue` and set `legend=False` for the same effect.\n",
            "\n",
            "  sns.boxplot(data=data, x='Churn', y='tenure', palette='Set2')\n"
          ]
        },
        {
          "output_type": "display_data",
          "data": {
            "text/plain": [
              "<Figure size 800x500 with 1 Axes>"
            ],
            "image/png": "[encoded data removed]"
          },
          "metadata": {}
        }
      ]
    },
    {
      "cell_type": "markdown",
      "source": [
        "## Customers who churned (\"Yes\"):\n",
        "\n",
        "Tend to have low tenure (many stayed less than 10 months).\n",
        "\n",
        "Median tenure is around 10 months.\n",
        "\n",
        "A few stayed longer (outliers up to ~70 months), but these are rare.\n",
        "\n",
        "## Customers who stayed (\"No\"):\n",
        "\n",
        "Have a much higher median tenure (~38 months).\n",
        "\n",
        "Wider distribution with many staying longer than 50 months."
      ],
      "metadata": {
        "id": "DfBv-spzEuNr"
      }
    },
    {
      "cell_type": "markdown",
      "source": [
        "**Preprocessing**"
      ],
      "metadata": {
        "id": "UJHe98L7Fk8F"
      }
    },
    {
      "cell_type": "code",
      "source": [
        "data.drop('customerID', axis=1, inplace=True)"
      ],
      "metadata": {
        "id": "L9yhoe2JFggO"
      },
      "execution_count": 11,
      "outputs": []
    },
    {
      "cell_type": "code",
      "source": [
        "numeric_cols = ['tenure', 'MonthlyCharges', 'TotalCharges']"
      ],
      "metadata": {
        "id": "eWhz_nUWEku0"
      },
      "execution_count": 12,
      "outputs": []
    },
    {
      "cell_type": "code",
      "source": [
        "data['TotalCharges'] = pd.to_numeric(data['TotalCharges'], errors='coerce')\n"
      ],
      "metadata": {
        "id": "05cth1Uiwd_-"
      },
      "execution_count": 13,
      "outputs": []
    },
    {
      "cell_type": "markdown",
      "source": [
        "## **Distribution of Numeric coulmns**"
      ],
      "metadata": {
        "id": "D_RnvBQmOBbe"
      }
    },
    {
      "cell_type": "code",
      "source": [
        "plt.figure(figsize=(15, 4))\n",
        "\n",
        "for i, col in enumerate(numeric_cols):\n",
        "    plt.subplot(1, 3, i + 1)\n",
        "    sns.histplot(data[col], kde=True, color='skyblue')\n",
        "    plt.title(f'Distribution of {col}')\n",
        "\n",
        "plt.tight_layout()\n",
        "plt.show()\n"
      ],
      "metadata": {
        "colab": {
          "base_uri": "https://localhost:8080/",
          "height": 310
        },
        "id": "4rht5G75E4uB",
        "outputId": "a9f17d43-bf8f-436e-8339-e28b47939d54"
      },
      "execution_count": 14,
      "outputs": [
        {
          "output_type": "display_data",
          "data": {
            "text/plain": [
              "<Figure size 1500x400 with 3 Axes>"
            ],
            "image/png": "[encoded data removed]"
          },
          "metadata": {}
        }
      ]
    },
    {
      "cell_type": "markdown",
      "source": [
        "# Distribution of Numerical columns\n",
        "### **Tenure The distribution is bimodal (two peaks)**:\n",
        "\n",
        "A large number of customers left very early (tenure = 0–10 months).\n",
        "\n",
        "Another spike at around 70 months → long-term loyal customers.\n",
        "\n",
        "Customers either leave early or stay for a long time.\n",
        "\n",
        "Highly right-skewed, so scaling is needed .\n",
        "\n",
        "### **MonthlyCharges This distribution is multi-modal (several peaks)**.\n",
        "\n",
        "The first peak is near 20– 30, and another large cluster is between 70– 90.\n",
        "\n",
        "Customers tend to fall into two or more pricing tiers.\n",
        "\n",
        "feature isn’t strongly skewed, but still not normal.\n",
        "\n",
        "### **TotalCharges Strong right-skewed distribution.**\n",
        "\n",
        "Many customers have very low total charges (i.e., short tenure).\n",
        "\n",
        "Few customers have high total charges — likely long-term loyal ones.\n",
        "\n",
        " A direct product of MonthlyCharges × tenure (approximately)."
      ],
      "metadata": {
        "id": "FH4CQiTVOiq6"
      }
    },
    {
      "cell_type": "markdown",
      "source": [
        "### **Check for null values**"
      ],
      "metadata": {
        "id": "1T2e6AfhYeIY"
      }
    },
    {
      "cell_type": "code",
      "source": [
        "data.isnull().sum()\n"
      ],
      "metadata": {
        "colab": {
          "base_uri": "https://localhost:8080/",
          "height": 711
        },
        "id": "B3ikCVQ51mM0",
        "outputId": "fc08bbf5-c5a8-42af-ea53-da33f46e0cab"
      },
      "execution_count": 15,
      "outputs": [
        {
          "output_type": "execute_result",
          "data": {
            "text/plain": [
              "gender               0\n",
              "SeniorCitizen        0\n",
              "Partner              0\n",
              "Dependents           0\n",
              "tenure               0\n",
              "PhoneService         0\n",
              "MultipleLines        0\n",
              "InternetService      0\n",
              "OnlineSecurity       0\n",
              "OnlineBackup         0\n",
              "DeviceProtection     0\n",
              "TechSupport          0\n",
              "StreamingTV          0\n",
              "StreamingMovies      0\n",
              "Contract             0\n",
              "PaperlessBilling     0\n",
              "PaymentMethod        0\n",
              "MonthlyCharges       0\n",
              "TotalCharges        11\n",
              "Churn                0\n",
              "dtype: int64"
            ],
            "text/html": [
              "<div>\n",
              "<style scoped>\n",
              "    .dataframe tbody tr th:only-of-type {\n",
              "        vertical-align: middle;\n",
              "    }\n",
              "\n",
              "    .dataframe tbody tr th {\n",
              "        vertical-align: top;\n",
              "    }\n",
              "\n",
              "    .dataframe thead th {\n",
              "        text-align: right;\n",
              "    }\n",
              "</style>\n",
              "<table border=\"1\" class=\"dataframe\">\n",
              "  <thead>\n",
              "    <tr style=\"text-align: right;\">\n",
              "      <th></th>\n",
              "      <th>0</th>\n",
              "    </tr>\n",
              "  </thead>\n",
              "  <tbody>\n",
              "    <tr>\n",
              "      <th>gender</th>\n",
              "      <td>0</td>\n",
              "    </tr>\n",
              "    <tr>\n",
              "      <th>SeniorCitizen</th>\n",
              "      <td>0</td>\n",
              "    </tr>\n",
              "    <tr>\n",
              "      <th>Partner</th>\n",
              "      <td>0</td>\n",
              "    </tr>\n",
              "    <tr>\n",
              "      <th>Dependents</th>\n",
              "      <td>0</td>\n",
              "    </tr>\n",
              "    <tr>\n",
              "      <th>tenure</th>\n",
              "      <td>0</td>\n",
              "    </tr>\n",
              "    <tr>\n",
              "      <th>PhoneService</th>\n",
              "      <td>0</td>\n",
              "    </tr>\n",
              "    <tr>\n",
              "      <th>MultipleLines</th>\n",
              "      <td>0</td>\n",
              "    </tr>\n",
              "    <tr>\n",
              "      <th>InternetService</th>\n",
              "      <td>0</td>\n",
              "    </tr>\n",
              "    <tr>\n",
              "      <th>OnlineSecurity</th>\n",
              "      <td>0</td>\n",
              "    </tr>\n",
              "    <tr>\n",
              "      <th>OnlineBackup</th>\n",
              "      <td>0</td>\n",
              "    </tr>\n",
              "    <tr>\n",
              "      <th>DeviceProtection</th>\n",
              "      <td>0</td>\n",
              "    </tr>\n",
              "    <tr>\n",
              "      <th>TechSupport</th>\n",
              "      <td>0</td>\n",
              "    </tr>\n",
              "    <tr>\n",
              "      <th>StreamingTV</th>\n",
              "      <td>0</td>\n",
              "    </tr>\n",
              "    <tr>\n",
              "      <th>StreamingMovies</th>\n",
              "      <td>0</td>\n",
              "    </tr>\n",
              "    <tr>\n",
              "      <th>Contract</th>\n",
              "      <td>0</td>\n",
              "    </tr>\n",
              "    <tr>\n",
              "      <th>PaperlessBilling</th>\n",
              "      <td>0</td>\n",
              "    </tr>\n",
              "    <tr>\n",
              "      <th>PaymentMethod</th>\n",
              "      <td>0</td>\n",
              "    </tr>\n",
              "    <tr>\n",
              "      <th>MonthlyCharges</th>\n",
              "      <td>0</td>\n",
              "    </tr>\n",
              "    <tr>\n",
              "      <th>TotalCharges</th>\n",
              "      <td>11</td>\n",
              "    </tr>\n",
              "    <tr>\n",
              "      <th>Churn</th>\n",
              "      <td>0</td>\n",
              "    </tr>\n",
              "  </tbody>\n",
              "</table>\n",
              "</div><br><label><b>dtype:</b> int64</label>"
            ]
          },
          "metadata": {},
          "execution_count": 15
        }
      ]
    },
    {
      "cell_type": "code",
      "source": [
        "data[['TotalCharges', 'Churn','MonthlyCharges','tenure']][data['TotalCharges'].isnull()]\n"
      ],
      "metadata": {
        "colab": {
          "base_uri": "https://localhost:8080/",
          "height": 394
        },
        "id": "0zDNX1T9yhI-",
        "outputId": "44fcbd9e-250d-46fd-aea2-4a2d7b860d3a"
      },
      "execution_count": 16,
      "outputs": [
        {
          "output_type": "execute_result",
          "data": {
            "text/plain": [
              "      TotalCharges Churn  MonthlyCharges  tenure\n",
              "488            NaN    No           52.55       0\n",
              "753            NaN    No           20.25       0\n",
              "936            NaN    No           80.85       0\n",
              "1082           NaN    No           25.75       0\n",
              "1340           NaN    No           56.05       0\n",
              "3331           NaN    No           19.85       0\n",
              "3826           NaN    No           25.35       0\n",
              "4380           NaN    No           20.00       0\n",
              "5218           NaN    No           19.70       0\n",
              "6670           NaN    No           73.35       0\n",
              "6754           NaN    No           61.90       0"
            ],
            "text/html": [
              "\n",
              "  <div id=\"df-f002b6ce-b01d-4720-8d15-e7db9fe967fc\" class=\"colab-df-container\">\n",
              "    <div>\n",
              "<style scoped>\n",
              "    .dataframe tbody tr th:only-of-type {\n",
              "        vertical-align: middle;\n",
              "    }\n",
              "\n",
              "    .dataframe tbody tr th {\n",
              "        vertical-align: top;\n",
              "    }\n",
              "\n",
              "    .dataframe thead th {\n",
              "        text-align: right;\n",
              "    }\n",
              "</style>\n",
              "<table border=\"1\" class=\"dataframe\">\n",
              "  <thead>\n",
              "    <tr style=\"text-align: right;\">\n",
              "      <th></th>\n",
              "      <th>TotalCharges</th>\n",
              "      <th>Churn</th>\n",
              "      <th>MonthlyCharges</th>\n",
              "      <th>tenure</th>\n",
              "    </tr>\n",
              "  </thead>\n",
              "  <tbody>\n",
              "    <tr>\n",
              "      <th>488</th>\n",
              "      <td>NaN</td>\n",
              "      <td>No</td>\n",
              "      <td>52.55</td>\n",
              "      <td>0</td>\n",
              "    </tr>\n",
              "    <tr>\n",
              "      <th>753</th>\n",
              "      <td>NaN</td>\n",
              "      <td>No</td>\n",
              "      <td>20.25</td>\n",
              "      <td>0</td>\n",
              "    </tr>\n",
              "    <tr>\n",
              "      <th>936</th>\n",
              "      <td>NaN</td>\n",
              "      <td>No</td>\n",
              "      <td>80.85</td>\n",
              "      <td>0</td>\n",
              "    </tr>\n",
              "    <tr>\n",
              "      <th>1082</th>\n",
              "      <td>NaN</td>\n",
              "      <td>No</td>\n",
              "      <td>25.75</td>\n",
              "      <td>0</td>\n",
              "    </tr>\n",
              "    <tr>\n",
              "      <th>1340</th>\n",
              "      <td>NaN</td>\n",
              "      <td>No</td>\n",
              "      <td>56.05</td>\n",
              "      <td>0</td>\n",
              "    </tr>\n",
              "    <tr>\n",
              "      <th>3331</th>\n",
              "      <td>NaN</td>\n",
              "      <td>No</td>\n",
              "      <td>19.85</td>\n",
              "      <td>0</td>\n",
              "    </tr>\n",
              "    <tr>\n",
              "      <th>3826</th>\n",
              "      <td>NaN</td>\n",
              "      <td>No</td>\n",
              "      <td>25.35</td>\n",
              "      <td>0</td>\n",
              "    </tr>\n",
              "    <tr>\n",
              "      <th>4380</th>\n",
              "      <td>NaN</td>\n",
              "      <td>No</td>\n",
              "      <td>20.00</td>\n",
              "      <td>0</td>\n",
              "    </tr>\n",
              "    <tr>\n",
              "      <th>5218</th>\n",
              "      <td>NaN</td>\n",
              "      <td>No</td>\n",
              "      <td>19.70</td>\n",
              "      <td>0</td>\n",
              "    </tr>\n",
              "    <tr>\n",
              "      <th>6670</th>\n",
              "      <td>NaN</td>\n",
              "      <td>No</td>\n",
              "      <td>73.35</td>\n",
              "      <td>0</td>\n",
              "    </tr>\n",
              "    <tr>\n",
              "      <th>6754</th>\n",
              "      <td>NaN</td>\n",
              "      <td>No</td>\n",
              "      <td>61.90</td>\n",
              "      <td>0</td>\n",
              "    </tr>\n",
              "  </tbody>\n",
              "</table>\n",
              "</div>\n",
              "    <div class=\"colab-df-buttons\">\n",
              "\n",
              "  <div class=\"colab-df-container\">\n",
              "    <button class=\"colab-df-convert\" onclick=\"convertToInteractive('df-f002b6ce-b01d-4720-8d15-e7db9fe967fc')\"\n",
              "            title=\"Convert this dataframe to an interactive table.\"\n",
              "            style=\"display:none;\">\n",
              "\n",
              "  <svg xmlns=\"http://www.w3.org/2000/svg\" height=\"24px\" viewBox=\"0 -960 960 960\">\n",
              "    <path d=\"M120-120v-720h720v720H120Zm60-500h600v-160H180v160Zm220 220h160v-160H400v160Zm0 220h160v-160H400v160ZM180-400h160v-160H180v160Zm440 0h160v-160H620v160ZM180-180h160v-160H180v160Zm440 0h160v-160H620v160Z\"/>\n",
              "  </svg>\n",
              "    </button>\n",
              "\n",
              "  <style>\n",
              "    .colab-df-container {\n",
              "      display:flex;\n",
              "      gap: 12px;\n",
              "    }\n",
              "\n",
              "    .colab-df-convert {\n",
              "      background-color: #E8F0FE;\n",
              "      border: none;\n",
              "      border-radius: 50%;\n",
              "      cursor: pointer;\n",
              "      display: none;\n",
              "      fill: #1967D2;\n",
              "      height: 32px;\n",
              "      padding: 0 0 0 0;\n",
              "      width: 32px;\n",
              "    }\n",
              "\n",
              "    .colab-df-convert:hover {\n",
              "      background-color: #E2EBFA;\n",
              "      box-shadow: 0px 1px 2px rgba(60, 64, 67, 0.3), 0px 1px 3px 1px rgba(60, 64, 67, 0.15);\n",
              "      fill: #174EA6;\n",
              "    }\n",
              "\n",
              "    .colab-df-buttons div {\n",
              "      margin-bottom: 4px;\n",
              "    }\n",
              "\n",
              "    [theme=dark] .colab-df-convert {\n",
              "      background-color: #3B4455;\n",
              "      fill: #D2E3FC;\n",
              "    }\n",
              "\n",
              "    [theme=dark] .colab-df-convert:hover {\n",
              "      background-color: #434B5C;\n",
              "      box-shadow: 0px 1px 3px 1px rgba(0, 0, 0, 0.15);\n",
              "      filter: drop-shadow(0px 1px 2px rgba(0, 0, 0, 0.3));\n",
              "      fill: #FFFFFF;\n",
              "    }\n",
              "  </style>\n",
              "\n",
              "    <script>\n",
              "      const buttonEl =\n",
              "        document.querySelector('#df-f002b6ce-b01d-4720-8d15-e7db9fe967fc button.colab-df-convert');\n",
              "      buttonEl.style.display =\n",
              "        google.colab.kernel.accessAllowed ? 'block' : 'none';\n",
              "\n",
              "      async function convertToInteractive(key) {\n",
              "        const element = document.querySelector('#df-f002b6ce-b01d-4720-8d15-e7db9fe967fc');\n",
              "        const dataTable =\n",
              "          await google.colab.kernel.invokeFunction('convertToInteractive',\n",
              "                                                    [key], {});\n",
              "        if (!dataTable) return;\n",
              "\n",
              "        const docLinkHtml = 'Like what you see? Visit the ' +\n",
              "          '<a target=\"_blank\" href=https://colab.research.google.com/notebooks/data_table.ipynb>data table notebook</a>'\n",
              "          + ' to learn more about interactive tables.';\n",
              "        element.innerHTML = '';\n",
              "        dataTable['output_type'] = 'display_data';\n",
              "        await google.colab.output.renderOutput(dataTable, element);\n",
              "        const docLink = document.createElement('div');\n",
              "        docLink.innerHTML = docLinkHtml;\n",
              "        element.appendChild(docLink);\n",
              "      }\n",
              "    </script>\n",
              "  </div>\n",
              "\n",
              "\n",
              "    <div id=\"df-19ebb5c5-94a5-4a1e-90f1-a737e22b7181\">\n",
              "      <button class=\"colab-df-quickchart\" onclick=\"quickchart('df-19ebb5c5-94a5-4a1e-90f1-a737e22b7181')\"\n",
              "                title=\"Suggest charts\"\n",
              "                style=\"display:none;\">\n",
              "\n",
              "<svg xmlns=\"http://www.w3.org/2000/svg\" height=\"24px\"viewBox=\"0 0 24 24\"\n",
              "     width=\"24px\">\n",
              "    <g>\n",
              "        <path d=\"M19 3H5c-1.1 0-2 .9-2 2v14c0 1.1.9 2 2 2h14c1.1 0 2-.9 2-2V5c0-1.1-.9-2-2-2zM9 17H7v-7h2v7zm4 0h-2V7h2v10zm4 0h-2v-4h2v4z\"/>\n",
              "    </g>\n",
              "</svg>\n",
              "      </button>\n",
              "\n",
              "<style>\n",
              "  .colab-df-quickchart {\n",
              "      --bg-color: #E8F0FE;\n",
              "      --fill-color: #1967D2;\n",
              "      --hover-bg-color: #E2EBFA;\n",
              "      --hover-fill-color: #174EA6;\n",
              "      --disabled-fill-color: #AAA;\n",
              "      --disabled-bg-color: #DDD;\n",
              "  }\n",
              "\n",
              "  [theme=dark] .colab-df-quickchart {\n",
              "      --bg-color: #3B4455;\n",
              "      --fill-color: #D2E3FC;\n",
              "      --hover-bg-color: #434B5C;\n",
              "      --hover-fill-color: #FFFFFF;\n",
              "      --disabled-bg-color: #3B4455;\n",
              "      --disabled-fill-color: #666;\n",
              "  }\n",
              "\n",
              "  .colab-df-quickchart {\n",
              "    background-color: var(--bg-color);\n",
              "    border: none;\n",
              "    border-radius: 50%;\n",
              "    cursor: pointer;\n",
              "    display: none;\n",
              "    fill: var(--fill-color);\n",
              "    height: 32px;\n",
              "    padding: 0;\n",
              "    width: 32px;\n",
              "  }\n",
              "\n",
              "  .colab-df-quickchart:hover {\n",
              "    background-color: var(--hover-bg-color);\n",
              "    box-shadow: 0 1px 2px rgba(60, 64, 67, 0.3), 0 1px 3px 1px rgba(60, 64, 67, 0.15);\n",
              "    fill: var(--button-hover-fill-color);\n",
              "  }\n",
              "\n",
              "  .colab-df-quickchart-complete:disabled,\n",
              "  .colab-df-quickchart-complete:disabled:hover {\n",
              "    background-color: var(--disabled-bg-color);\n",
              "    fill: var(--disabled-fill-color);\n",
              "    box-shadow: none;\n",
              "  }\n",
              "\n",
              "  .colab-df-spinner {\n",
              "    border: 2px solid var(--fill-color);\n",
              "    border-color: transparent;\n",
              "    border-bottom-color: var(--fill-color);\n",
              "    animation:\n",
              "      spin 1s steps(1) infinite;\n",
              "  }\n",
              "\n",
              "  @keyframes spin {\n",
              "    0% {\n",
              "      border-color: transparent;\n",
              "      border-bottom-color: var(--fill-color);\n",
              "      border-left-color: var(--fill-color);\n",
              "    }\n",
              "    20% {\n",
              "      border-color: transparent;\n",
              "      border-left-color: var(--fill-color);\n",
              "      border-top-color: var(--fill-color);\n",
              "    }\n",
              "    30% {\n",
              "      border-color: transparent;\n",
              "      border-left-color: var(--fill-color);\n",
              "      border-top-color: var(--fill-color);\n",
              "      border-right-color: var(--fill-color);\n",
              "    }\n",
              "    40% {\n",
              "      border-color: transparent;\n",
              "      border-right-color: var(--fill-color);\n",
              "      border-top-color: var(--fill-color);\n",
              "    }\n",
              "    60% {\n",
              "      border-color: transparent;\n",
              "      border-right-color: var(--fill-color);\n",
              "    }\n",
              "    80% {\n",
              "      border-color: transparent;\n",
              "      border-right-color: var(--fill-color);\n",
              "      border-bottom-color: var(--fill-color);\n",
              "    }\n",
              "    90% {\n",
              "      border-color: transparent;\n",
              "      border-bottom-color: var(--fill-color);\n",
              "    }\n",
              "  }\n",
              "</style>\n",
              "\n",
              "      <script>\n",
              "        async function quickchart(key) {\n",
              "          const quickchartButtonEl =\n",
              "            document.querySelector('#' + key + ' button');\n",
              "          quickchartButtonEl.disabled = true;  // To prevent multiple clicks.\n",
              "          quickchartButtonEl.classList.add('colab-df-spinner');\n",
              "          try {\n",
              "            const charts = await google.colab.kernel.invokeFunction(\n",
              "                'suggestCharts', [key], {});\n",
              "          } catch (error) {\n",
              "            console.error('Error during call to suggestCharts:', error);\n",
              "          }\n",
              "          quickchartButtonEl.classList.remove('colab-df-spinner');\n",
              "          quickchartButtonEl.classList.add('colab-df-quickchart-complete');\n",
              "        }\n",
              "        (() => {\n",
              "          let quickchartButtonEl =\n",
              "            document.querySelector('#df-19ebb5c5-94a5-4a1e-90f1-a737e22b7181 button');\n",
              "          quickchartButtonEl.style.display =\n",
              "            google.colab.kernel.accessAllowed ? 'block' : 'none';\n",
              "        })();\n",
              "      </script>\n",
              "    </div>\n",
              "\n",
              "    </div>\n",
              "  </div>\n"
            ],
            "application/vnd.google.colaboratory.intrinsic+json": {
              "type": "dataframe",
              "summary": "{\n  \"name\": \"data[['TotalCharges', 'Churn','MonthlyCharges','tenure']][data['TotalCharges']\",\n  \"rows\": 11,\n  \"fields\": [\n    {\n      \"column\": \"TotalCharges\",\n      \"properties\": {\n        \"dtype\": \"number\",\n        \"std\": null,\n        \"min\": null,\n        \"max\": null,\n        \"num_unique_values\": 0,\n        \"samples\": [],\n        \"semantic_type\": \"\",\n        \"description\": \"\"\n      }\n    },\n    {\n      \"column\": \"Churn\",\n      \"properties\": {\n        \"dtype\": \"category\",\n        \"num_unique_values\": 1,\n        \"samples\": [],\n        \"semantic_type\": \"\",\n        \"description\": \"\"\n      }\n    },\n    {\n      \"column\": \"MonthlyCharges\",\n      \"properties\": {\n        \"dtype\": \"number\",\n        \"std\": 23.83148414101892,\n        \"min\": 19.7,\n        \"max\": 80.85,\n        \"num_unique_values\": 11,\n        \"samples\": [],\n        \"semantic_type\": \"\",\n        \"description\": \"\"\n      }\n    },\n    {\n      \"column\": \"tenure\",\n      \"properties\": {\n        \"dtype\": \"number\",\n        \"std\": 0,\n        \"min\": 0,\n        \"max\": 0,\n        \"num_unique_values\": 1,\n        \"samples\": [],\n        \"semantic_type\": \"\",\n        \"description\": \"\"\n      }\n    }\n  ]\n}"
            }
          },
          "metadata": {},
          "execution_count": 16
        }
      ]
    },
    {
      "cell_type": "code",
      "source": [
        "# Fix TotalCharges where tenure is 0\n",
        "mask = (data['TotalCharges'].isnull()) & (data['tenure'] == 0)\n",
        "\n",
        "data.loc[mask, 'TotalCharges'] = data.loc[mask, 'MonthlyCharges']\n",
        "data.loc[mask, 'tenure'] = 1\n",
        "\n"
      ],
      "metadata": {
        "id": "_OPYA8CwPoqu"
      },
      "execution_count": 17,
      "outputs": []
    },
    {
      "cell_type": "code",
      "source": [
        "print(data[[\"TotalCharges\",\"Churn\",\"MonthlyCharges\",\"tenure\"]].loc[mask])\n"
      ],
      "metadata": {
        "colab": {
          "base_uri": "https://localhost:8080/"
        },
        "id": "udXgP69bWKFR",
        "outputId": "81d0f180-0610-46bd-887a-4946c9776b0b"
      },
      "execution_count": 18,
      "outputs": [
        {
          "output_type": "stream",
          "name": "stdout",
          "text": [
            "      TotalCharges Churn  MonthlyCharges  tenure\n",
            "488          52.55    No           52.55       1\n",
            "753          20.25    No           20.25       1\n",
            "936          80.85    No           80.85       1\n",
            "1082         25.75    No           25.75       1\n",
            "1340         56.05    No           56.05       1\n",
            "3331         19.85    No           19.85       1\n",
            "3826         25.35    No           25.35       1\n",
            "4380         20.00    No           20.00       1\n",
            "5218         19.70    No           19.70       1\n",
            "6670         73.35    No           73.35       1\n",
            "6754         61.90    No           61.90       1\n"
          ]
        }
      ]
    },
    {
      "cell_type": "markdown",
      "source": [
        "**tenure as 0 is misleading, since there was a charge → means at least one billing cycle or a partial month.**"
      ],
      "metadata": {
        "id": "KscW05FOYFC3"
      }
    },
    {
      "cell_type": "markdown",
      "source": [
        "## **Checking for duplicated values**"
      ],
      "metadata": {
        "id": "jRcO_0jCYmPs"
      }
    },
    {
      "cell_type": "code",
      "source": [
        "duplicate_count = data.duplicated().sum()\n",
        "print(\"Number of duplicate rows:\", duplicate_count)\n",
        "\n"
      ],
      "metadata": {
        "colab": {
          "base_uri": "https://localhost:8080/"
        },
        "id": "4H57j9Lalc_l",
        "outputId": "86484392-b1b9-417a-9f63-2c227de726a2"
      },
      "execution_count": 19,
      "outputs": [
        {
          "output_type": "stream",
          "name": "stdout",
          "text": [
            "Number of duplicate rows: 22\n"
          ]
        }
      ]
    },
    {
      "cell_type": "code",
      "source": [
        "data = data.drop_duplicates(keep='first')\n"
      ],
      "metadata": {
        "id": "52jDsw5Inat1"
      },
      "execution_count": 20,
      "outputs": []
    },
    {
      "cell_type": "code",
      "source": [
        "duplicate_count = data.duplicated().sum()\n",
        "print(\"Number of duplicate rows:\", duplicate_count)\n",
        "\n"
      ],
      "metadata": {
        "colab": {
          "base_uri": "https://localhost:8080/"
        },
        "id": "OjyqPMISZbET",
        "outputId": "e2fdbc71-c8bd-41b6-ec9d-e0555aa6b893"
      },
      "execution_count": 21,
      "outputs": [
        {
          "output_type": "stream",
          "name": "stdout",
          "text": [
            "Number of duplicate rows: 0\n"
          ]
        }
      ]
    },
    {
      "cell_type": "markdown",
      "source": [
        "**Encode and scale Categorical and Numerical features**"
      ],
      "metadata": {
        "id": "bZluJ8MMDJnc"
      }
    },
    {
      "cell_type": "code",
      "source": [
        "data['Churn'] = data['Churn'].map({'No': 0, 'Yes': 1})"
      ],
      "metadata": {
        "id": "dBXykMTQDlan",
        "colab": {
          "base_uri": "https://localhost:8080/"
        },
        "outputId": "498a6bdd-d255-482c-f83a-2f363e765130"
      },
      "execution_count": 22,
      "outputs": [
        {
          "output_type": "stream",
          "name": "stderr",
          "text": [
            "<ipython-input-22-d5e3f896984f>:1: SettingWithCopyWarning: \n",
            "A value is trying to be set on a copy of a slice from a DataFrame.\n",
            "Try using .loc[row_indexer,col_indexer] = value instead\n",
            "\n",
            "See the caveats in the documentation: https://pandas.pydata.org/pandas-docs/stable/user_guide/indexing.html#returning-a-view-versus-a-copy\n",
            "  data['Churn'] = data['Churn'].map({'No': 0, 'Yes': 1})\n"
          ]
        }
      ]
    },
    {
      "cell_type": "code",
      "source": [
        "X_full = data.drop('Churn', axis=1)\n",
        "y = data['Churn']\n",
        "\n",
        "# Preprocessing\n",
        "robust_scaled_cols_all = ['tenure', 'TotalCharges']\n",
        "minmax_scaled_cols = ['MonthlyCharges']\n",
        "categorical_cols = [\n",
        "    'MultipleLines', 'InternetService', 'OnlineSecurity', 'OnlineBackup',\n",
        "    'DeviceProtection', 'TechSupport', 'StreamingTV', 'StreamingMovies',\n",
        "    'Contract', 'PaymentMethod', 'gender', 'Partner', 'Dependents',\n",
        "    'PhoneService', 'PaperlessBilling'\n",
        "]\n"
      ],
      "metadata": {
        "id": "2xIJWqO7q2ww"
      },
      "execution_count": 23,
      "outputs": []
    },
    {
      "cell_type": "markdown",
      "source": [
        "# **Heat map**"
      ],
      "metadata": {
        "id": "i8MObECi0hlY"
      }
    },
    {
      "cell_type": "markdown",
      "source": [
        "## **check for correlation between features**"
      ],
      "metadata": {
        "id": "G7mWj-si0uG0"
      }
    },
    {
      "cell_type": "code",
      "source": [
        "preprocessor_all = ColumnTransformer(\n",
        "    transformers=[\n",
        "        ('robust', RobustScaler(), robust_scaled_cols_all),\n",
        "        ('minmax', MinMaxScaler(), minmax_scaled_cols),\n",
        "        ('cat', OneHotEncoder(drop='first'), categorical_cols)\n",
        "    ]\n",
        ")\n",
        "\n",
        "# Transform all features\n",
        "X_transformed = preprocessor_all.fit_transform(X_full)\n",
        "\n",
        "# Feature names\n",
        "ohe = preprocessor_all.named_transformers_['cat']\n",
        "encoded_cat_cols = ohe.get_feature_names_out(categorical_cols)\n",
        "all_features = robust_scaled_cols_all + minmax_scaled_cols + list(encoded_cat_cols)\n",
        "\n",
        "\n",
        "X_encoded_df = pd.DataFrame(X_transformed.toarray() if hasattr(X_transformed, \"toarray\") else X_transformed,\n",
        "                            columns=all_features)\n",
        "X_encoded_df['Churn'] = y.values\n",
        "\n",
        "\n"
      ],
      "metadata": {
        "id": "rrA3NWwu0ZbK"
      },
      "execution_count": 24,
      "outputs": []
    },
    {
      "cell_type": "code",
      "source": [
        "plt.figure(figsize=(9,9))\n",
        "sns.heatmap(X_encoded_df.corr(), cmap='coolwarm', center=0)\n",
        "plt.title(\"Correlation Heatmap\")\n",
        "plt.tight_layout()\n",
        "plt.show()\n"
      ],
      "metadata": {
        "colab": {
          "base_uri": "https://localhost:8080/",
          "height": 907
        },
        "id": "mXjE08Nl08su",
        "outputId": "a37a7c0d-86fc-42ed-ce87-e5b3a9a5395e"
      },
      "execution_count": 25,
      "outputs": [
        {
          "output_type": "display_data",
          "data": {
            "text/plain": [
              "<Figure size 900x900 with 2 Axes>"
            ],
            "image/png": "[encoded data removed]"
          },
          "metadata": {}
        }
      ]
    },
    {
      "cell_type": "markdown",
      "source": [
        "### 🔍 Heatmap Interpretation: Correlation with Churn\n",
        "\n",
        "| Feature                       | Correlation | Insight                                      | Action               |\n",
        "|------------------------------|-------------|----------------------------------------------|----------------------|\n",
        "| `tenure`                     | Negative    | Long-tenure customers are less likely to churn | ✅ Keep              |\n",
        "| `Contract_Two year`          | Strong Negative | Long contracts reduce churn                  | ✅ Keep              |\n",
        "| `InternetService_Fiber optic`| Positive     | Fiber users tend to churn more               | ✅ Keep              |\n",
        "| `TechSupport_Yes`            | Negative     | Support helps retain customers               | ✅ Keep              |\n",
        "| `OnlineSecurity_Yes`         | Negative     | Same — secure users churn less               | ✅ Keep              |\n",
        "| `MonthlyCharges`             | Weak Positive | Higher charges slightly increase churn risk | ✅ Keep              |\n",
        "| `PaperlessBilling_Yes`       | Weak Positive | Might slightly contribute to churn          | ✅ Keep              |\n",
        "| `gender_Male`                | Near Zero    | No real effect on churn                      | ❌ Drop              |\n",
        "| `PhoneService_Yes`           | Near Zero    | No meaningful impact                         | ❌ Drop              |\n",
        "| `TotalCharges`               | Redundant (Derived from tenure × monthly) | Covered by other features | ❌ Drop for LR only |\n"
      ],
      "metadata": {
        "id": "0si7e0651A3A"
      }
    },
    {
      "cell_type": "markdown",
      "source": [
        ":::### 💡 Feature Selection Decision: Handling `TotalCharges`\n",
        "\n",
        "Based on the correlation heatmap, `TotalCharges` is moderately correlated with `Churn`, but it is also highly related to other features like `MonthlyCharges` and `tenure` since:\n",
        "\n",
        "> TotalCharges ≈ MonthlyCharges × tenure\n",
        "\n",
        "In **Logistic Regression**, which is a linear model, including highly correlated features can cause multicollinearity, making the model unstable or less interpretable.  \n",
        "➡️ So, we decided to **remove `TotalCharges` for Logistic Regression** to improve generalization and avoid redundant information.\n",
        "\n",
        "In contrast, **tree-based models like XGBoost and LightGBM are not sensitive to multicollinearity**. They can handle redundant features well and may even benefit from them.  \n",
        "➡️ Therefore, I chose to **keep `TotalCharges` for tree-based models** to give them more flexibility in learning non-linear interactions.\n"
      ],
      "metadata": {
        "id": "o_MsLH_Y2EmW"
      }
    },
    {
      "cell_type": "code",
      "source": [
        "features_to_drop_for_all = ['gender', 'PhoneService']\n",
        "features_to_drop_for_lr = features_to_drop_for_all + ['TotalCharges']\n",
        "\n",
        "# Logistic version\n",
        "X_lr = data.drop(columns=features_to_drop_for_lr + ['Churn'])\n",
        "y_lr = data['Churn']\n",
        "\n",
        "# Tree version\n",
        "X_tree = data.drop(columns=features_to_drop_for_all + ['Churn'])\n",
        "y_tree = data['Churn']\n"
      ],
      "metadata": {
        "id": "79XYXzod3tBC"
      },
      "execution_count": 26,
      "outputs": []
    },
    {
      "cell_type": "markdown",
      "source": [
        "## **Create preprocessor pipline for numerical**"
      ],
      "metadata": {
        "id": "XxMYS8oRZu5U"
      }
    },
    {
      "cell_type": "code",
      "source": [
        "\n",
        "updated_categorical_cols = [col for col in categorical_cols if col not in ['gender', 'PhoneService']]\n",
        "\n",
        "\n",
        "\n",
        "# Preprocessors\n",
        "preprocessor_lr = ColumnTransformer(\n",
        "    transformers=[\n",
        "        ('robust', RobustScaler(), ['tenure']),\n",
        "        ('minmax', MinMaxScaler(), ['MonthlyCharges']),\n",
        "        ('cat', OneHotEncoder(drop='first'),updated_categorical_cols)\n",
        "    ]\n",
        ")\n",
        "\n",
        "preprocessor_tree = ColumnTransformer(\n",
        "    transformers=[\n",
        "        ('robust', RobustScaler(), ['tenure', 'TotalCharges']),\n",
        "        ('minmax', MinMaxScaler(), ['MonthlyCharges']),\n",
        "        ('cat', OneHotEncoder(drop='first'),updated_categorical_cols)\n",
        "    ]\n",
        ")\n"
      ],
      "metadata": {
        "id": "nfAoqrItxqN4"
      },
      "execution_count": 27,
      "outputs": []
    },
    {
      "cell_type": "markdown",
      "source": [
        "## **Modeling and Evaluation**"
      ],
      "metadata": {
        "id": "qI7qUH9RZ_H7"
      }
    },
    {
      "cell_type": "markdown",
      "source": [
        "## **Spliting data for training and Testing**"
      ],
      "metadata": {
        "id": "QjT4HJeraYsL"
      }
    },
    {
      "cell_type": "code",
      "source": [
        "X_lr_train, X_lr_test, y_lr_train, y_lr_test = train_test_split(X_lr, y, test_size=0.2, random_state=42)\n",
        "X_tree_train, X_tree_test, y_tree_train, y_tree_test = train_test_split(X_tree, y, test_size=0.2, random_state=42)\n"
      ],
      "metadata": {
        "id": "duXiactNabcf"
      },
      "execution_count": 28,
      "outputs": []
    },
    {
      "cell_type": "markdown",
      "source": [
        "**first handel imbalanced data with class_weight=balanced**"
      ],
      "metadata": {
        "id": "h-HE4CY54Uji"
      }
    },
    {
      "cell_type": "markdown",
      "source": [
        "## **1-Logistic Model**\n"
      ],
      "metadata": {
        "id": "4Zd6gKZ_gA0-"
      }
    },
    {
      "cell_type": "code",
      "source": [
        "# Logistic Regression\n",
        "pipe_lr = Pipeline(steps=[\n",
        "    ('preprocessor', preprocessor_lr),\n",
        "    ('classifier', LogisticRegression(class_weight='balanced', max_iter=1000))\n",
        "])\n",
        "pipe_lr.fit(X_lr_train, y_lr_train)\n",
        "y_lr_pred = pipe_lr.predict(X_lr_test)\n"
      ],
      "metadata": {
        "id": "VStNy-h7yeJM"
      },
      "execution_count": 29,
      "outputs": []
    },
    {
      "cell_type": "code",
      "source": [
        "print(classification_report(y_lr_pred,y_lr_test))\n",
        "\n"
      ],
      "metadata": {
        "colab": {
          "base_uri": "https://localhost:8080/"
        },
        "id": "GLNRhwu363CU",
        "outputId": "3317cede-4a5c-4721-d2dc-6bf8425d134d"
      },
      "execution_count": 30,
      "outputs": [
        {
          "output_type": "stream",
          "name": "stdout",
          "text": [
            "              precision    recall  f1-score   support\n",
            "\n",
            "           0       0.72      0.92      0.81       823\n",
            "           1       0.81      0.49      0.61       582\n",
            "\n",
            "    accuracy                           0.74      1405\n",
            "   macro avg       0.77      0.71      0.71      1405\n",
            "weighted avg       0.76      0.74      0.73      1405\n",
            "\n"
          ]
        }
      ]
    },
    {
      "cell_type": "markdown",
      "source": [
        "## **Tuning logistic regression**"
      ],
      "metadata": {
        "id": "Hv15MbNefKVF"
      }
    },
    {
      "cell_type": "code",
      "source": [
        "param_grid_lr = {\n",
        "    'classifier__C': [0.01, 0.1, 1, 10],\n",
        "    'classifier__penalty': ['l1', 'l2'],\n",
        "    'classifier__solver': ['liblinear']\n",
        "}\n"
      ],
      "metadata": {
        "id": "FrvwdKu8fOqL"
      },
      "execution_count": 31,
      "outputs": []
    },
    {
      "cell_type": "code",
      "source": [
        "grid_lr = GridSearchCV(\n",
        "    pipe_lr,\n",
        "    param_grid=param_grid_lr,\n",
        "    cv=5,\n",
        "    scoring='f1',\n",
        "    verbose=1,\n",
        "    n_jobs=-1\n",
        ")\n",
        "\n",
        "grid_lr.fit(X_lr_train, y_lr_train)\n"
      ],
      "metadata": {
        "colab": {
          "base_uri": "https://localhost:8080/",
          "height": 296
        },
        "id": "DETRSmw4fWrv",
        "outputId": "7cf15069-dada-4e2d-83a1-ee2c4f6d32f0"
      },
      "execution_count": 32,
      "outputs": [
        {
          "output_type": "stream",
          "name": "stdout",
          "text": [
            "Fitting 5 folds for each of 8 candidates, totalling 40 fits\n"
          ]
        },
        {
          "output_type": "execute_result",
          "data": {
            "text/plain": [
              "GridSearchCV(cv=5,\n",
              "             estimator=Pipeline(steps=[('preprocessor',\n",
              "                                        ColumnTransformer(transformers=[('robust',\n",
              "                                                                         RobustScaler(),\n",
              "                                                                         ['tenure']),\n",
              "                                                                        ('minmax',\n",
              "                                                                         MinMaxScaler(),\n",
              "                                                                         ['MonthlyCharges']),\n",
              "                                                                        ('cat',\n",
              "                                                                         OneHotEncoder(drop='first'),\n",
              "                                                                         ['MultipleLines',\n",
              "                                                                          'InternetService',\n",
              "                                                                          'OnlineSecurity',\n",
              "                                                                          'OnlineBackup',\n",
              "                                                                          'DeviceProtection',\n",
              "                                                                          'TechSupport',\n",
              "                                                                          'StreamingTV',\n",
              "                                                                          'StreamingMovies',\n",
              "                                                                          'Contract',\n",
              "                                                                          'PaymentMethod',\n",
              "                                                                          'Partner',\n",
              "                                                                          'Dependents',\n",
              "                                                                          'PaperlessBilling'])])),\n",
              "                                       ('classifier',\n",
              "                                        LogisticRegression(class_weight='balanced',\n",
              "                                                           max_iter=1000))]),\n",
              "             n_jobs=-1,\n",
              "             param_grid={'classifier__C': [0.01, 0.1, 1, 10],\n",
              "                         'classifier__penalty': ['l1', 'l2'],\n",
              "                         'classifier__solver': ['liblinear']},\n",
              "             scoring='f1', verbose=1)"
            ],
            "text/html": [
              "<style>#sk-container-id-1 {\n",
              "  /* Definition of color scheme common for light and dark mode */\n",
              "  --sklearn-color-text: #000;\n",
              "  --sklearn-color-text-muted: #666;\n",
              "  --sklearn-color-line: gray;\n",
              "  /* Definition of color scheme for unfitted estimators */\n",
              "  --sklearn-color-unfitted-level-0: #fff5e6;\n",
              "  --sklearn-color-unfitted-level-1: #f6e4d2;\n",
              "  --sklearn-color-unfitted-level-2: #ffe0b3;\n",
              "  --sklearn-color-unfitted-level-3: chocolate;\n",
              "  /* Definition of color scheme for fitted estimators */\n",
              "  --sklearn-color-fitted-level-0: #f0f8ff;\n",
              "  --sklearn-color-fitted-level-1: #d4ebff;\n",
              "  --sklearn-color-fitted-level-2: #b3dbfd;\n",
              "  --sklearn-color-fitted-level-3: cornflowerblue;\n",
              "\n",
              "  /* Specific color for light theme */\n",
              "  --sklearn-color-text-on-default-background: var(--sg-text-color, var(--theme-code-foreground, var(--jp-content-font-color1, black)));\n",
              "  --sklearn-color-background: var(--sg-background-color, var(--theme-background, var(--jp-layout-color0, white)));\n",
              "  --sklearn-color-border-box: var(--sg-text-color, var(--theme-code-foreground, var(--jp-content-font-color1, black)));\n",
              "  --sklearn-color-icon: #696969;\n",
              "\n",
              "  @media (prefers-color-scheme: dark) {\n",
              "    /* Redefinition of color scheme for dark theme */\n",
              "    --sklearn-color-text-on-default-background: var(--sg-text-color, var(--theme-code-foreground, var(--jp-content-font-color1, white)));\n",
              "    --sklearn-color-background: var(--sg-background-color, var(--theme-background, var(--jp-layout-color0, #111)));\n",
              "    --sklearn-color-border-box: var(--sg-text-color, var(--theme-code-foreground, var(--jp-content-font-color1, white)));\n",
              "    --sklearn-color-icon: #878787;\n",
              "  }\n",
              "}\n",
              "\n",
              "#sk-container-id-1 {\n",
              "  color: var(--sklearn-color-text);\n",
              "}\n",
              "\n",
              "#sk-container-id-1 pre {\n",
              "  padding: 0;\n",
              "}\n",
              "\n",
              "#sk-container-id-1 input.sk-hidden--visually {\n",
              "  border: 0;\n",
              "  clip: rect(1px 1px 1px 1px);\n",
              "  clip: rect(1px, 1px, 1px, 1px);\n",
              "  height: 1px;\n",
              "  margin: -1px;\n",
              "  overflow: hidden;\n",
              "  padding: 0;\n",
              "  position: absolute;\n",
              "  width: 1px;\n",
              "}\n",
              "\n",
              "#sk-container-id-1 div.sk-dashed-wrapped {\n",
              "  border: 1px dashed var(--sklearn-color-line);\n",
              "  margin: 0 0.4em 0.5em 0.4em;\n",
              "  box-sizing: border-box;\n",
              "  padding-bottom: 0.4em;\n",
              "  background-color: var(--sklearn-color-background);\n",
              "}\n",
              "\n",
              "#sk-container-id-1 div.sk-container {\n",
              "  /* jupyter's `normalize.less` sets `[hidden] { display: none; }`\n",
              "     but bootstrap.min.css set `[hidden] { display: none !important; }`\n",
              "     so we also need the `!important` here to be able to override the\n",
              "     default hidden behavior on the sphinx rendered scikit-learn.org.\n",
              "     See: https://github.com/scikit-learn/scikit-learn/issues/21755 */\n",
              "  display: inline-block !important;\n",
              "  position: relative;\n",
              "}\n",
              "\n",
              "#sk-container-id-1 div.sk-text-repr-fallback {\n",
              "  display: none;\n",
              "}\n",
              "\n",
              "div.sk-parallel-item,\n",
              "div.sk-serial,\n",
              "div.sk-item {\n",
              "  /* draw centered vertical line to link estimators */\n",
              "  background-image: linear-gradient(var(--sklearn-color-text-on-default-background), var(--sklearn-color-text-on-default-background));\n",
              "  background-size: 2px 100%;\n",
              "  background-repeat: no-repeat;\n",
              "  background-position: center center;\n",
              "}\n",
              "\n",
              "/* Parallel-specific style estimator block */\n",
              "\n",
              "#sk-container-id-1 div.sk-parallel-item::after {\n",
              "  content: \"\";\n",
              "  width: 100%;\n",
              "  border-bottom: 2px solid var(--sklearn-color-text-on-default-background);\n",
              "  flex-grow: 1;\n",
              "}\n",
              "\n",
              "#sk-container-id-1 div.sk-parallel {\n",
              "  display: flex;\n",
              "  align-items: stretch;\n",
              "  justify-content: center;\n",
              "  background-color: var(--sklearn-color-background);\n",
              "  position: relative;\n",
              "}\n",
              "\n",
              "#sk-container-id-1 div.sk-parallel-item {\n",
              "  display: flex;\n",
              "  flex-direction: column;\n",
              "}\n",
              "\n",
              "#sk-container-id-1 div.sk-parallel-item:first-child::after {\n",
              "  align-self: flex-end;\n",
              "  width: 50%;\n",
              "}\n",
              "\n",
              "#sk-container-id-1 div.sk-parallel-item:last-child::after {\n",
              "  align-self: flex-start;\n",
              "  width: 50%;\n",
              "}\n",
              "\n",
              "#sk-container-id-1 div.sk-parallel-item:only-child::after {\n",
              "  width: 0;\n",
              "}\n",
              "\n",
              "/* Serial-specific style estimator block */\n",
              "\n",
              "#sk-container-id-1 div.sk-serial {\n",
              "  display: flex;\n",
              "  flex-direction: column;\n",
              "  align-items: center;\n",
              "  background-color: var(--sklearn-color-background);\n",
              "  padding-right: 1em;\n",
              "  padding-left: 1em;\n",
              "}\n",
              "\n",
              "\n",
              "/* Toggleable style: style used for estimator/Pipeline/ColumnTransformer box that is\n",
              "clickable and can be expanded/collapsed.\n",
              "- Pipeline and ColumnTransformer use this feature and define the default style\n",
              "- Estimators will overwrite some part of the style using the `sk-estimator` class\n",
              "*/\n",
              "\n",
              "/* Pipeline and ColumnTransformer style (default) */\n",
              "\n",
              "#sk-container-id-1 div.sk-toggleable {\n",
              "  /* Default theme specific background. It is overwritten whether we have a\n",
              "  specific estimator or a Pipeline/ColumnTransformer */\n",
              "  background-color: var(--sklearn-color-background);\n",
              "}\n",
              "\n",
              "/* Toggleable label */\n",
              "#sk-container-id-1 label.sk-toggleable__label {\n",
              "  cursor: pointer;\n",
              "  display: flex;\n",
              "  width: 100%;\n",
              "  margin-bottom: 0;\n",
              "  padding: 0.5em;\n",
              "  box-sizing: border-box;\n",
              "  text-align: center;\n",
              "  align-items: start;\n",
              "  justify-content: space-between;\n",
              "  gap: 0.5em;\n",
              "}\n",
              "\n",
              "#sk-container-id-1 label.sk-toggleable__label .caption {\n",
              "  font-size: 0.6rem;\n",
              "  font-weight: lighter;\n",
              "  color: var(--sklearn-color-text-muted);\n",
              "}\n",
              "\n",
              "#sk-container-id-1 label.sk-toggleable__label-arrow:before {\n",
              "  /* Arrow on the left of the label */\n",
              "  content: \"▸\";\n",
              "  float: left;\n",
              "  margin-right: 0.25em;\n",
              "  color: var(--sklearn-color-icon);\n",
              "}\n",
              "\n",
              "#sk-container-id-1 label.sk-toggleable__label-arrow:hover:before {\n",
              "  color: var(--sklearn-color-text);\n",
              "}\n",
              "\n",
              "/* Toggleable content - dropdown */\n",
              "\n",
              "#sk-container-id-1 div.sk-toggleable__content {\n",
              "  max-height: 0;\n",
              "  max-width: 0;\n",
              "  overflow: hidden;\n",
              "  text-align: left;\n",
              "  /* unfitted */\n",
              "  background-color: var(--sklearn-color-unfitted-level-0);\n",
              "}\n",
              "\n",
              "#sk-container-id-1 div.sk-toggleable__content.fitted {\n",
              "  /* fitted */\n",
              "  background-color: var(--sklearn-color-fitted-level-0);\n",
              "}\n",
              "\n",
              "#sk-container-id-1 div.sk-toggleable__content pre {\n",
              "  margin: 0.2em;\n",
              "  border-radius: 0.25em;\n",
              "  color: var(--sklearn-color-text);\n",
              "  /* unfitted */\n",
              "  background-color: var(--sklearn-color-unfitted-level-0);\n",
              "}\n",
              "\n",
              "#sk-container-id-1 div.sk-toggleable__content.fitted pre {\n",
              "  /* unfitted */\n",
              "  background-color: var(--sklearn-color-fitted-level-0);\n",
              "}\n",
              "\n",
              "#sk-container-id-1 input.sk-toggleable__control:checked~div.sk-toggleable__content {\n",
              "  /* Expand drop-down */\n",
              "  max-height: 200px;\n",
              "  max-width: 100%;\n",
              "  overflow: auto;\n",
              "}\n",
              "\n",
              "#sk-container-id-1 input.sk-toggleable__control:checked~label.sk-toggleable__label-arrow:before {\n",
              "  content: \"▾\";\n",
              "}\n",
              "\n",
              "/* Pipeline/ColumnTransformer-specific style */\n",
              "\n",
              "#sk-container-id-1 div.sk-label input.sk-toggleable__control:checked~label.sk-toggleable__label {\n",
              "  color: var(--sklearn-color-text);\n",
              "  background-color: var(--sklearn-color-unfitted-level-2);\n",
              "}\n",
              "\n",
              "#sk-container-id-1 div.sk-label.fitted input.sk-toggleable__control:checked~label.sk-toggleable__label {\n",
              "  background-color: var(--sklearn-color-fitted-level-2);\n",
              "}\n",
              "\n",
              "/* Estimator-specific style */\n",
              "\n",
              "/* Colorize estimator box */\n",
              "#sk-container-id-1 div.sk-estimator input.sk-toggleable__control:checked~label.sk-toggleable__label {\n",
              "  /* unfitted */\n",
              "  background-color: var(--sklearn-color-unfitted-level-2);\n",
              "}\n",
              "\n",
              "#sk-container-id-1 div.sk-estimator.fitted input.sk-toggleable__control:checked~label.sk-toggleable__label {\n",
              "  /* fitted */\n",
              "  background-color: var(--sklearn-color-fitted-level-2);\n",
              "}\n",
              "\n",
              "#sk-container-id-1 div.sk-label label.sk-toggleable__label,\n",
              "#sk-container-id-1 div.sk-label label {\n",
              "  /* The background is the default theme color */\n",
              "  color: var(--sklearn-color-text-on-default-background);\n",
              "}\n",
              "\n",
              "/* On hover, darken the color of the background */\n",
              "#sk-container-id-1 div.sk-label:hover label.sk-toggleable__label {\n",
              "  color: var(--sklearn-color-text);\n",
              "  background-color: var(--sklearn-color-unfitted-level-2);\n",
              "}\n",
              "\n",
              "/* Label box, darken color on hover, fitted */\n",
              "#sk-container-id-1 div.sk-label.fitted:hover label.sk-toggleable__label.fitted {\n",
              "  color: var(--sklearn-color-text);\n",
              "  background-color: var(--sklearn-color-fitted-level-2);\n",
              "}\n",
              "\n",
              "/* Estimator label */\n",
              "\n",
              "#sk-container-id-1 div.sk-label label {\n",
              "  font-family: monospace;\n",
              "  font-weight: bold;\n",
              "  display: inline-block;\n",
              "  line-height: 1.2em;\n",
              "}\n",
              "\n",
              "#sk-container-id-1 div.sk-label-container {\n",
              "  text-align: center;\n",
              "}\n",
              "\n",
              "/* Estimator-specific */\n",
              "#sk-container-id-1 div.sk-estimator {\n",
              "  font-family: monospace;\n",
              "  border: 1px dotted var(--sklearn-color-border-box);\n",
              "  border-radius: 0.25em;\n",
              "  box-sizing: border-box;\n",
              "  margin-bottom: 0.5em;\n",
              "  /* unfitted */\n",
              "  background-color: var(--sklearn-color-unfitted-level-0);\n",
              "}\n",
              "\n",
              "#sk-container-id-1 div.sk-estimator.fitted {\n",
              "  /* fitted */\n",
              "  background-color: var(--sklearn-color-fitted-level-0);\n",
              "}\n",
              "\n",
              "/* on hover */\n",
              "#sk-container-id-1 div.sk-estimator:hover {\n",
              "  /* unfitted */\n",
              "  background-color: var(--sklearn-color-unfitted-level-2);\n",
              "}\n",
              "\n",
              "#sk-container-id-1 div.sk-estimator.fitted:hover {\n",
              "  /* fitted */\n",
              "  background-color: var(--sklearn-color-fitted-level-2);\n",
              "}\n",
              "\n",
              "/* Specification for estimator info (e.g. \"i\" and \"?\") */\n",
              "\n",
              "/* Common style for \"i\" and \"?\" */\n",
              "\n",
              ".sk-estimator-doc-link,\n",
              "a:link.sk-estimator-doc-link,\n",
              "a:visited.sk-estimator-doc-link {\n",
              "  float: right;\n",
              "  font-size: smaller;\n",
              "  line-height: 1em;\n",
              "  font-family: monospace;\n",
              "  background-color: var(--sklearn-color-background);\n",
              "  border-radius: 1em;\n",
              "  height: 1em;\n",
              "  width: 1em;\n",
              "  text-decoration: none !important;\n",
              "  margin-left: 0.5em;\n",
              "  text-align: center;\n",
              "  /* unfitted */\n",
              "  border: var(--sklearn-color-unfitted-level-1) 1pt solid;\n",
              "  color: var(--sklearn-color-unfitted-level-1);\n",
              "}\n",
              "\n",
              ".sk-estimator-doc-link.fitted,\n",
              "a:link.sk-estimator-doc-link.fitted,\n",
              "a:visited.sk-estimator-doc-link.fitted {\n",
              "  /* fitted */\n",
              "  border: var(--sklearn-color-fitted-level-1) 1pt solid;\n",
              "  color: var(--sklearn-color-fitted-level-1);\n",
              "}\n",
              "\n",
              "/* On hover */\n",
              "div.sk-estimator:hover .sk-estimator-doc-link:hover,\n",
              ".sk-estimator-doc-link:hover,\n",
              "div.sk-label-container:hover .sk-estimator-doc-link:hover,\n",
              ".sk-estimator-doc-link:hover {\n",
              "  /* unfitted */\n",
              "  background-color: var(--sklearn-color-unfitted-level-3);\n",
              "  color: var(--sklearn-color-background);\n",
              "  text-decoration: none;\n",
              "}\n",
              "\n",
              "div.sk-estimator.fitted:hover .sk-estimator-doc-link.fitted:hover,\n",
              ".sk-estimator-doc-link.fitted:hover,\n",
              "div.sk-label-container:hover .sk-estimator-doc-link.fitted:hover,\n",
              ".sk-estimator-doc-link.fitted:hover {\n",
              "  /* fitted */\n",
              "  background-color: var(--sklearn-color-fitted-level-3);\n",
              "  color: var(--sklearn-color-background);\n",
              "  text-decoration: none;\n",
              "}\n",
              "\n",
              "/* Span, style for the box shown on hovering the info icon */\n",
              ".sk-estimator-doc-link span {\n",
              "  display: none;\n",
              "  z-index: 9999;\n",
              "  position: relative;\n",
              "  font-weight: normal;\n",
              "  right: .2ex;\n",
              "  padding: .5ex;\n",
              "  margin: .5ex;\n",
              "  width: min-content;\n",
              "  min-width: 20ex;\n",
              "  max-width: 50ex;\n",
              "  color: var(--sklearn-color-text);\n",
              "  box-shadow: 2pt 2pt 4pt #999;\n",
              "  /* unfitted */\n",
              "  background: var(--sklearn-color-unfitted-level-0);\n",
              "  border: .5pt solid var(--sklearn-color-unfitted-level-3);\n",
              "}\n",
              "\n",
              ".sk-estimator-doc-link.fitted span {\n",
              "  /* fitted */\n",
              "  background: var(--sklearn-color-fitted-level-0);\n",
              "  border: var(--sklearn-color-fitted-level-3);\n",
              "}\n",
              "\n",
              ".sk-estimator-doc-link:hover span {\n",
              "  display: block;\n",
              "}\n",
              "\n",
              "/* \"?\"-specific style due to the `<a>` HTML tag */\n",
              "\n",
              "#sk-container-id-1 a.estimator_doc_link {\n",
              "  float: right;\n",
              "  font-size: 1rem;\n",
              "  line-height: 1em;\n",
              "  font-family: monospace;\n",
              "  background-color: var(--sklearn-color-background);\n",
              "  border-radius: 1rem;\n",
              "  height: 1rem;\n",
              "  width: 1rem;\n",
              "  text-decoration: none;\n",
              "  /* unfitted */\n",
              "  color: var(--sklearn-color-unfitted-level-1);\n",
              "  border: var(--sklearn-color-unfitted-level-1) 1pt solid;\n",
              "}\n",
              "\n",
              "#sk-container-id-1 a.estimator_doc_link.fitted {\n",
              "  /* fitted */\n",
              "  border: var(--sklearn-color-fitted-level-1) 1pt solid;\n",
              "  color: var(--sklearn-color-fitted-level-1);\n",
              "}\n",
              "\n",
              "/* On hover */\n",
              "#sk-container-id-1 a.estimator_doc_link:hover {\n",
              "  /* unfitted */\n",
              "  background-color: var(--sklearn-color-unfitted-level-3);\n",
              "  color: var(--sklearn-color-background);\n",
              "  text-decoration: none;\n",
              "}\n",
              "\n",
              "#sk-container-id-1 a.estimator_doc_link.fitted:hover {\n",
              "  /* fitted */\n",
              "  background-color: var(--sklearn-color-fitted-level-3);\n",
              "}\n",
              "</style><div id=\"sk-container-id-1\" class=\"sk-top-container\"><div class=\"sk-text-repr-fallback\"><pre>GridSearchCV(cv=5,\n",
              "             estimator=Pipeline(steps=[(&#x27;preprocessor&#x27;,\n",
              "                                        ColumnTransformer(transformers=[(&#x27;robust&#x27;,\n",
              "                                                                         RobustScaler(),\n",
              "                                                                         [&#x27;tenure&#x27;]),\n",
              "                                                                        (&#x27;minmax&#x27;,\n",
              "                                                                         MinMaxScaler(),\n",
              "                                                                         [&#x27;MonthlyCharges&#x27;]),\n",
              "                                                                        (&#x27;cat&#x27;,\n",
              "                                                                         OneHotEncoder(drop=&#x27;first&#x27;),\n",
              "                                                                         [&#x27;MultipleLines&#x27;,\n",
              "                                                                          &#x27;InternetService&#x27;,\n",
              "                                                                          &#x27;OnlineSecurity&#x27;,\n",
              "                                                                          &#x27;OnlineBackup&#x27;,\n",
              "                                                                          &#x27;DeviceProtection&#x27;,\n",
              "                                                                          &#x27;TechSupport&#x27;,\n",
              "                                                                          &#x27;StreamingTV&#x27;,\n",
              "                                                                          &#x27;StreamingMovies&#x27;,\n",
              "                                                                          &#x27;Contract&#x27;,\n",
              "                                                                          &#x27;PaymentMethod&#x27;,\n",
              "                                                                          &#x27;Partner&#x27;,\n",
              "                                                                          &#x27;Dependents&#x27;,\n",
              "                                                                          &#x27;PaperlessBilling&#x27;])])),\n",
              "                                       (&#x27;classifier&#x27;,\n",
              "                                        LogisticRegression(class_weight=&#x27;balanced&#x27;,\n",
              "                                                           max_iter=1000))]),\n",
              "             n_jobs=-1,\n",
              "             param_grid={&#x27;classifier__C&#x27;: [0.01, 0.1, 1, 10],\n",
              "                         &#x27;classifier__penalty&#x27;: [&#x27;l1&#x27;, &#x27;l2&#x27;],\n",
              "                         &#x27;classifier__solver&#x27;: [&#x27;liblinear&#x27;]},\n",
              "             scoring=&#x27;f1&#x27;, verbose=1)</pre><b>In a Jupyter environment, please rerun this cell to show the HTML representation or trust the notebook. <br />On GitHub, the HTML representation is unable to render, please try loading this page with nbviewer.org.</b></div><div class=\"sk-container\" hidden><div class=\"sk-item sk-dashed-wrapped\"><div class=\"sk-label-container\"><div class=\"sk-label fitted sk-toggleable\"><input class=\"sk-toggleable__control sk-hidden--visually\" id=\"sk-estimator-id-1\" type=\"checkbox\" ><label for=\"sk-estimator-id-1\" class=\"sk-toggleable__label fitted sk-toggleable__label-arrow\"><div><div>GridSearchCV</div></div><div><a class=\"sk-estimator-doc-link fitted\" rel=\"noreferrer\" target=\"_blank\" href=\"https://scikit-learn.org/1.6/modules/generated/sklearn.model_selection.GridSearchCV.html\">?<span>Documentation for GridSearchCV</span></a><span class=\"sk-estimator-doc-link fitted\">i<span>Fitted</span></span></div></label><div class=\"sk-toggleable__content fitted\"><pre>GridSearchCV(cv=5,\n",
              "             estimator=Pipeline(steps=[(&#x27;preprocessor&#x27;,\n",
              "                                        ColumnTransformer(transformers=[(&#x27;robust&#x27;,\n",
              "                                                                         RobustScaler(),\n",
              "                                                                         [&#x27;tenure&#x27;]),\n",
              "                                                                        (&#x27;minmax&#x27;,\n",
              "                                                                         MinMaxScaler(),\n",
              "                                                                         [&#x27;MonthlyCharges&#x27;]),\n",
              "                                                                        (&#x27;cat&#x27;,\n",
              "                                                                         OneHotEncoder(drop=&#x27;first&#x27;),\n",
              "                                                                         [&#x27;MultipleLines&#x27;,\n",
              "                                                                          &#x27;InternetService&#x27;,\n",
              "                                                                          &#x27;OnlineSecurity&#x27;,\n",
              "                                                                          &#x27;OnlineBackup&#x27;,\n",
              "                                                                          &#x27;DeviceProtection&#x27;,\n",
              "                                                                          &#x27;TechSupport&#x27;,\n",
              "                                                                          &#x27;StreamingTV&#x27;,\n",
              "                                                                          &#x27;StreamingMovies&#x27;,\n",
              "                                                                          &#x27;Contract&#x27;,\n",
              "                                                                          &#x27;PaymentMethod&#x27;,\n",
              "                                                                          &#x27;Partner&#x27;,\n",
              "                                                                          &#x27;Dependents&#x27;,\n",
              "                                                                          &#x27;PaperlessBilling&#x27;])])),\n",
              "                                       (&#x27;classifier&#x27;,\n",
              "                                        LogisticRegression(class_weight=&#x27;balanced&#x27;,\n",
              "                                                           max_iter=1000))]),\n",
              "             n_jobs=-1,\n",
              "             param_grid={&#x27;classifier__C&#x27;: [0.01, 0.1, 1, 10],\n",
              "                         &#x27;classifier__penalty&#x27;: [&#x27;l1&#x27;, &#x27;l2&#x27;],\n",
              "                         &#x27;classifier__solver&#x27;: [&#x27;liblinear&#x27;]},\n",
              "             scoring=&#x27;f1&#x27;, verbose=1)</pre></div> </div></div><div class=\"sk-parallel\"><div class=\"sk-parallel-item\"><div class=\"sk-item\"><div class=\"sk-label-container\"><div class=\"sk-label fitted sk-toggleable\"><input class=\"sk-toggleable__control sk-hidden--visually\" id=\"sk-estimator-id-2\" type=\"checkbox\" ><label for=\"sk-estimator-id-2\" class=\"sk-toggleable__label fitted sk-toggleable__label-arrow\"><div><div>best_estimator_: Pipeline</div></div></label><div class=\"sk-toggleable__content fitted\"><pre>Pipeline(steps=[(&#x27;preprocessor&#x27;,\n",
              "                 ColumnTransformer(transformers=[(&#x27;robust&#x27;, RobustScaler(),\n",
              "                                                  [&#x27;tenure&#x27;]),\n",
              "                                                 (&#x27;minmax&#x27;, MinMaxScaler(),\n",
              "                                                  [&#x27;MonthlyCharges&#x27;]),\n",
              "                                                 (&#x27;cat&#x27;,\n",
              "                                                  OneHotEncoder(drop=&#x27;first&#x27;),\n",
              "                                                  [&#x27;MultipleLines&#x27;,\n",
              "                                                   &#x27;InternetService&#x27;,\n",
              "                                                   &#x27;OnlineSecurity&#x27;,\n",
              "                                                   &#x27;OnlineBackup&#x27;,\n",
              "                                                   &#x27;DeviceProtection&#x27;,\n",
              "                                                   &#x27;TechSupport&#x27;, &#x27;StreamingTV&#x27;,\n",
              "                                                   &#x27;StreamingMovies&#x27;,\n",
              "                                                   &#x27;Contract&#x27;, &#x27;PaymentMethod&#x27;,\n",
              "                                                   &#x27;Partner&#x27;, &#x27;Dependents&#x27;,\n",
              "                                                   &#x27;PaperlessBilling&#x27;])])),\n",
              "                (&#x27;classifier&#x27;,\n",
              "                 LogisticRegression(C=0.1, class_weight=&#x27;balanced&#x27;,\n",
              "                                    max_iter=1000, penalty=&#x27;l1&#x27;,\n",
              "                                    solver=&#x27;liblinear&#x27;))])</pre></div> </div></div><div class=\"sk-serial\"><div class=\"sk-item\"><div class=\"sk-serial\"><div class=\"sk-item sk-dashed-wrapped\"><div class=\"sk-label-container\"><div class=\"sk-label fitted sk-toggleable\"><input class=\"sk-toggleable__control sk-hidden--visually\" id=\"sk-estimator-id-3\" type=\"checkbox\" ><label for=\"sk-estimator-id-3\" class=\"sk-toggleable__label fitted sk-toggleable__label-arrow\"><div><div>preprocessor: ColumnTransformer</div></div><div><a class=\"sk-estimator-doc-link fitted\" rel=\"noreferrer\" target=\"_blank\" href=\"https://scikit-learn.org/1.6/modules/generated/sklearn.compose.ColumnTransformer.html\">?<span>Documentation for preprocessor: ColumnTransformer</span></a></div></label><div class=\"sk-toggleable__content fitted\"><pre>ColumnTransformer(transformers=[(&#x27;robust&#x27;, RobustScaler(), [&#x27;tenure&#x27;]),\n",
              "                                (&#x27;minmax&#x27;, MinMaxScaler(), [&#x27;MonthlyCharges&#x27;]),\n",
              "                                (&#x27;cat&#x27;, OneHotEncoder(drop=&#x27;first&#x27;),\n",
              "                                 [&#x27;MultipleLines&#x27;, &#x27;InternetService&#x27;,\n",
              "                                  &#x27;OnlineSecurity&#x27;, &#x27;OnlineBackup&#x27;,\n",
              "                                  &#x27;DeviceProtection&#x27;, &#x27;TechSupport&#x27;,\n",
              "                                  &#x27;StreamingTV&#x27;, &#x27;StreamingMovies&#x27;, &#x27;Contract&#x27;,\n",
              "                                  &#x27;PaymentMethod&#x27;, &#x27;Partner&#x27;, &#x27;Dependents&#x27;,\n",
              "                                  &#x27;PaperlessBilling&#x27;])])</pre></div> </div></div><div class=\"sk-parallel\"><div class=\"sk-parallel-item\"><div class=\"sk-item\"><div class=\"sk-label-container\"><div class=\"sk-label fitted sk-toggleable\"><input class=\"sk-toggleable__control sk-hidden--visually\" id=\"sk-estimator-id-4\" type=\"checkbox\" ><label for=\"sk-estimator-id-4\" class=\"sk-toggleable__label fitted sk-toggleable__label-arrow\"><div><div>robust</div></div></label><div class=\"sk-toggleable__content fitted\"><pre>[&#x27;tenure&#x27;]</pre></div> </div></div><div class=\"sk-serial\"><div class=\"sk-item\"><div class=\"sk-estimator fitted sk-toggleable\"><input class=\"sk-toggleable__control sk-hidden--visually\" id=\"sk-estimator-id-5\" type=\"checkbox\" ><label for=\"sk-estimator-id-5\" class=\"sk-toggleable__label fitted sk-toggleable__label-arrow\"><div><div>RobustScaler</div></div><div><a class=\"sk-estimator-doc-link fitted\" rel=\"noreferrer\" target=\"_blank\" href=\"https://scikit-learn.org/1.6/modules/generated/sklearn.preprocessing.RobustScaler.html\">?<span>Documentation for RobustScaler</span></a></div></label><div class=\"sk-toggleable__content fitted\"><pre>RobustScaler()</pre></div> </div></div></div></div></div><div class=\"sk-parallel-item\"><div class=\"sk-item\"><div class=\"sk-label-container\"><div class=\"sk-label fitted sk-toggleable\"><input class=\"sk-toggleable__control sk-hidden--visually\" id=\"sk-estimator-id-6\" type=\"checkbox\" ><label for=\"sk-estimator-id-6\" class=\"sk-toggleable__label fitted sk-toggleable__label-arrow\"><div><div>minmax</div></div></label><div class=\"sk-toggleable__content fitted\"><pre>[&#x27;MonthlyCharges&#x27;]</pre></div> </div></div><div class=\"sk-serial\"><div class=\"sk-item\"><div class=\"sk-estimator fitted sk-toggleable\"><input class=\"sk-toggleable__control sk-hidden--visually\" id=\"sk-estimator-id-7\" type=\"checkbox\" ><label for=\"sk-estimator-id-7\" class=\"sk-toggleable__label fitted sk-toggleable__label-arrow\"><div><div>MinMaxScaler</div></div><div><a class=\"sk-estimator-doc-link fitted\" rel=\"noreferrer\" target=\"_blank\" href=\"https://scikit-learn.org/1.6/modules/generated/sklearn.preprocessing.MinMaxScaler.html\">?<span>Documentation for MinMaxScaler</span></a></div></label><div class=\"sk-toggleable__content fitted\"><pre>MinMaxScaler()</pre></div> </div></div></div></div></div><div class=\"sk-parallel-item\"><div class=\"sk-item\"><div class=\"sk-label-container\"><div class=\"sk-label fitted sk-toggleable\"><input class=\"sk-toggleable__control sk-hidden--visually\" id=\"sk-estimator-id-8\" type=\"checkbox\" ><label for=\"sk-estimator-id-8\" class=\"sk-toggleable__label fitted sk-toggleable__label-arrow\"><div><div>cat</div></div></label><div class=\"sk-toggleable__content fitted\"><pre>[&#x27;MultipleLines&#x27;, &#x27;InternetService&#x27;, &#x27;OnlineSecurity&#x27;, &#x27;OnlineBackup&#x27;, &#x27;DeviceProtection&#x27;, &#x27;TechSupport&#x27;, &#x27;StreamingTV&#x27;, &#x27;StreamingMovies&#x27;, &#x27;Contract&#x27;, &#x27;PaymentMethod&#x27;, &#x27;Partner&#x27;, &#x27;Dependents&#x27;, &#x27;PaperlessBilling&#x27;]</pre></div> </div></div><div class=\"sk-serial\"><div class=\"sk-item\"><div class=\"sk-estimator fitted sk-toggleable\"><input class=\"sk-toggleable__control sk-hidden--visually\" id=\"sk-estimator-id-9\" type=\"checkbox\" ><label for=\"sk-estimator-id-9\" class=\"sk-toggleable__label fitted sk-toggleable__label-arrow\"><div><div>OneHotEncoder</div></div><div><a class=\"sk-estimator-doc-link fitted\" rel=\"noreferrer\" target=\"_blank\" href=\"https://scikit-learn.org/1.6/modules/generated/sklearn.preprocessing.OneHotEncoder.html\">?<span>Documentation for OneHotEncoder</span></a></div></label><div class=\"sk-toggleable__content fitted\"><pre>OneHotEncoder(drop=&#x27;first&#x27;)</pre></div> </div></div></div></div></div></div></div><div class=\"sk-item\"><div class=\"sk-estimator fitted sk-toggleable\"><input class=\"sk-toggleable__control sk-hidden--visually\" id=\"sk-estimator-id-10\" type=\"checkbox\" ><label for=\"sk-estimator-id-10\" class=\"sk-toggleable__label fitted sk-toggleable__label-arrow\"><div><div>LogisticRegression</div></div><div><a class=\"sk-estimator-doc-link fitted\" rel=\"noreferrer\" target=\"_blank\" href=\"https://scikit-learn.org/1.6/modules/generated/sklearn.linear_model.LogisticRegression.html\">?<span>Documentation for LogisticRegression</span></a></div></label><div class=\"sk-toggleable__content fitted\"><pre>LogisticRegression(C=0.1, class_weight=&#x27;balanced&#x27;, max_iter=1000, penalty=&#x27;l1&#x27;,\n",
              "                   solver=&#x27;liblinear&#x27;)</pre></div> </div></div></div></div></div></div></div></div></div></div></div>"
            ]
          },
          "metadata": {},
          "execution_count": 32
        }
      ]
    },
    {
      "cell_type": "code",
      "source": [
        "best_log_model = grid_lr.best_estimator_\n",
        "\n",
        "y_lrtuned_pred = best_log_model.predict(X_lr_test)\n",
        "\n",
        "print(\"Best Parameters:\", grid_lr.best_params_)\n",
        "print(confusion_matrix(y_lr_test,y_lrtuned_pred))\n",
        "print(classification_report(y_lr_test,y_lrtuned_pred))\n"
      ],
      "metadata": {
        "colab": {
          "base_uri": "https://localhost:8080/"
        },
        "id": "NsIAgDWnfwBH",
        "outputId": "a8aea4e7-2222-4123-a6fe-47a881e6cbe5"
      },
      "execution_count": 33,
      "outputs": [
        {
          "output_type": "stream",
          "name": "stdout",
          "text": [
            "Best Parameters: {'classifier__C': 0.1, 'classifier__penalty': 'l1', 'classifier__solver': 'liblinear'}\n",
            "[[748 305]\n",
            " [ 70 282]]\n",
            "              precision    recall  f1-score   support\n",
            "\n",
            "           0       0.91      0.71      0.80      1053\n",
            "           1       0.48      0.80      0.60       352\n",
            "\n",
            "    accuracy                           0.73      1405\n",
            "   macro avg       0.70      0.76      0.70      1405\n",
            "weighted avg       0.81      0.73      0.75      1405\n",
            "\n"
          ]
        }
      ]
    },
    {
      "cell_type": "markdown",
      "source": [
        "## **2-XGBoost model**"
      ],
      "metadata": {
        "id": "vMyGLzrSGeeA"
      }
    },
    {
      "cell_type": "markdown",
      "source": [
        "**scale_pos_weight = (neg / pos) to compensate for minority class**"
      ],
      "metadata": {
        "id": "ArKNynbxXriX"
      }
    },
    {
      "cell_type": "code",
      "source": [
        "\n",
        "neg = sum(y_tree_train == 0)\n",
        "pos = sum(y_tree_train == 1)\n",
        "scale_pos_weight = neg / pos\n",
        "print(f\"Calculated scale_pos_weight: {scale_pos_weight:.2f}\")\n",
        "\n"
      ],
      "metadata": {
        "id": "8rO5E0KWFVT1",
        "colab": {
          "base_uri": "https://localhost:8080/"
        },
        "outputId": "8cf34f59-b253-4f90-a8eb-9ba334c7cb20"
      },
      "execution_count": 34,
      "outputs": [
        {
          "output_type": "stream",
          "name": "stdout",
          "text": [
            "Calculated scale_pos_weight: 2.73\n"
          ]
        }
      ]
    },
    {
      "cell_type": "code",
      "source": [
        "# XGBOOST (Base)\n",
        "pipe_xgb = Pipeline(steps=[\n",
        "    ('preprocessor', preprocessor_tree),\n",
        "    ('classifier', XGBClassifier(scale_pos_weight=scale_pos_weight,\n",
        "                                 use_label_encoder=False,\n",
        "                                 eval_metric='logloss',\n",
        "                                 random_state=42))\n",
        "])\n",
        "pipe_xgb.fit(X_tree_train, y_tree_train)\n",
        "y_xgb_pred = pipe_xgb.predict(X_tree_test)\n",
        "\n"
      ],
      "metadata": {
        "id": "TkDZT8J2HVeu",
        "colab": {
          "base_uri": "https://localhost:8080/"
        },
        "outputId": "a3957fbd-c04a-4322-91c5-46fddef1dc8e"
      },
      "execution_count": 35,
      "outputs": [
        {
          "output_type": "stream",
          "name": "stderr",
          "text": [
            "/usr/local/lib/python3.11/dist-packages/xgboost/core.py:158: UserWarning: [21:02:26] WARNING: /workspace/src/learner.cc:740: \n",
            "Parameters: { \"use_label_encoder\" } are not used.\n",
            "\n",
            "  warnings.warn(smsg, UserWarning)\n"
          ]
        }
      ]
    },
    {
      "cell_type": "code",
      "source": [
        "print(\"\\nXGBoost (Base)\")\n",
        "print(confusion_matrix(y_tree_test, y_xgb_pred))\n",
        "print(classification_report(y_tree_test, y_xgb_pred))"
      ],
      "metadata": {
        "colab": {
          "base_uri": "https://localhost:8080/"
        },
        "id": "EnxKFMvSHh_-",
        "outputId": "2e89b118-50b7-44a8-bd66-e5b73413997d"
      },
      "execution_count": 36,
      "outputs": [
        {
          "output_type": "stream",
          "name": "stdout",
          "text": [
            "\n",
            "XGBoost (Base)\n",
            "[[813 240]\n",
            " [123 229]]\n",
            "              precision    recall  f1-score   support\n",
            "\n",
            "           0       0.87      0.77      0.82      1053\n",
            "           1       0.49      0.65      0.56       352\n",
            "\n",
            "    accuracy                           0.74      1405\n",
            "   macro avg       0.68      0.71      0.69      1405\n",
            "weighted avg       0.77      0.74      0.75      1405\n",
            "\n"
          ]
        }
      ]
    },
    {
      "cell_type": "markdown",
      "source": [
        "**TUNED XGBOOST**"
      ],
      "metadata": {
        "id": "yeFIhLKLAraZ"
      }
    },
    {
      "cell_type": "code",
      "source": [
        "\n",
        "param_grid_xgb = {\n",
        "    'classifier__n_estimators': [100, 200],\n",
        "    'classifier__learning_rate': [0.01, 0.1],\n",
        "    'classifier__max_depth': [5, 7],\n",
        "    'classifier__subsample': [0.8, 1.0],\n",
        "    'classifier__colsample_bytree': [0.8, 1.0]\n",
        "}\n",
        "\n",
        "grid_xgb = GridSearchCV(pipe_xgb, param_grid_xgb, cv=5, scoring='f1', verbose=1, n_jobs=-1)\n",
        "grid_xgb.fit(X_tree_train, y_tree_train)\n",
        "\n",
        "best_xgb = grid_xgb.best_estimator_\n",
        "y_xgb_tuned_pred = best_xgb.predict(X_tree_test)\n",
        "\n",
        "print(\"\\nXGBoost (Tuned)\")\n",
        "print(\"Best Params:\", grid_xgb.best_params_)\n",
        "print(confusion_matrix(y_tree_test, y_xgb_tuned_pred))\n",
        "print(classification_report(y_tree_test, y_xgb_tuned_pred))"
      ],
      "metadata": {
        "colab": {
          "base_uri": "https://localhost:8080/"
        },
        "id": "Sb5NgHRkAlhR",
        "outputId": "f34e1a0f-986a-4837-c6dd-1564537c0469"
      },
      "execution_count": 37,
      "outputs": [
        {
          "output_type": "stream",
          "name": "stdout",
          "text": [
            "Fitting 5 folds for each of 32 candidates, totalling 160 fits\n"
          ]
        },
        {
          "output_type": "stream",
          "name": "stderr",
          "text": [
            "/usr/local/lib/python3.11/dist-packages/xgboost/core.py:158: UserWarning: [21:03:15] WARNING: /workspace/src/learner.cc:740: \n",
            "Parameters: { \"use_label_encoder\" } are not used.\n",
            "\n",
            "  warnings.warn(smsg, UserWarning)\n"
          ]
        },
        {
          "output_type": "stream",
          "name": "stdout",
          "text": [
            "\n",
            "XGBoost (Tuned)\n",
            "Best Params: {'classifier__colsample_bytree': 0.8, 'classifier__learning_rate': 0.01, 'classifier__max_depth': 7, 'classifier__n_estimators': 100, 'classifier__subsample': 0.8}\n",
            "[[775 278]\n",
            " [ 77 275]]\n",
            "              precision    recall  f1-score   support\n",
            "\n",
            "           0       0.91      0.74      0.81      1053\n",
            "           1       0.50      0.78      0.61       352\n",
            "\n",
            "    accuracy                           0.75      1405\n",
            "   macro avg       0.70      0.76      0.71      1405\n",
            "weighted avg       0.81      0.75      0.76      1405\n",
            "\n"
          ]
        }
      ]
    },
    {
      "cell_type": "markdown",
      "source": [
        "# 3-**LightGBM**"
      ],
      "metadata": {
        "id": "NVEsHpBjYatD"
      }
    },
    {
      "cell_type": "code",
      "source": [
        "\n",
        "pipe_lgbm = Pipeline(steps=[\n",
        "    ('preprocessor', preprocessor_tree),\n",
        "    ('classifier', LGBMClassifier(class_weight='balanced', random_state=42))\n",
        "])\n",
        "pipe_lgbm.fit(X_tree_train, y_tree_train)\n",
        "y_lgbm_pred = pipe_lgbm.predict(X_tree_test)\n",
        "\n",
        "print(\"\\nLightGBM (Base)\")\n",
        "print(confusion_matrix(y_tree_test, y_lgbm_pred))\n",
        "print(classification_report(y_tree_test, y_lgbm_pred))"
      ],
      "metadata": {
        "id": "27CzcwFpYnDd",
        "colab": {
          "base_uri": "https://localhost:8080/"
        },
        "outputId": "d5c0a831-8316-487a-b92a-a3a881d7298b"
      },
      "execution_count": 38,
      "outputs": [
        {
          "output_type": "stream",
          "name": "stdout",
          "text": [
            "[LightGBM] [Info] Number of positive: 1505, number of negative: 4111\n",
            "[LightGBM] [Info] Auto-choosing row-wise multi-threading, the overhead of testing was 0.000560 seconds.\n",
            "You can set `force_row_wise=true` to remove the overhead.\n",
            "And if memory is not enough, you can set `force_col_wise=true`.\n",
            "[LightGBM] [Info] Total Bins 630\n",
            "[LightGBM] [Info] Number of data points in the train set: 5616, number of used features: 27\n",
            "[LightGBM] [Info] [binary:BoostFromScore]: pavg=0.500000 -> initscore=-0.000000\n",
            "[LightGBM] [Info] Start training from score -0.000000\n",
            "\n",
            "LightGBM (Base)\n",
            "[[787 266]\n",
            " [ 96 256]]\n",
            "              precision    recall  f1-score   support\n",
            "\n",
            "           0       0.89      0.75      0.81      1053\n",
            "           1       0.49      0.73      0.59       352\n",
            "\n",
            "    accuracy                           0.74      1405\n",
            "   macro avg       0.69      0.74      0.70      1405\n",
            "weighted avg       0.79      0.74      0.76      1405\n",
            "\n"
          ]
        },
        {
          "output_type": "stream",
          "name": "stderr",
          "text": [
            "/usr/local/lib/python3.11/dist-packages/sklearn/utils/deprecation.py:151: FutureWarning: 'force_all_finite' was renamed to 'ensure_all_finite' in 1.6 and will be removed in 1.8.\n",
            "  warnings.warn(\n",
            "/usr/local/lib/python3.11/dist-packages/sklearn/utils/deprecation.py:151: FutureWarning: 'force_all_finite' was renamed to 'ensure_all_finite' in 1.6 and will be removed in 1.8.\n",
            "  warnings.warn(\n"
          ]
        }
      ]
    },
    {
      "cell_type": "markdown",
      "source": [
        "**TUNED LIGHTGBM**"
      ],
      "metadata": {
        "id": "lowBHQ-VBN5d"
      }
    },
    {
      "cell_type": "code",
      "source": [
        "\n",
        "param_grid_lgbm = {\n",
        "    'classifier__n_estimators': [100, 200],\n",
        "    'classifier__learning_rate': [0.01, 0.1],\n",
        "    'classifier__max_depth': [5, 7]\n",
        "}\n",
        "\n",
        "grid_lgbm = GridSearchCV(pipe_lgbm, param_grid_lgbm, cv=5, scoring='f1', verbose=1, n_jobs=-1)\n",
        "grid_lgbm.fit(X_tree_train, y_tree_train)\n",
        "\n",
        "best_lgbm = grid_lgbm.best_estimator_\n",
        "y_lgbm_tuned_pred = best_lgbm.predict(X_tree_test)\n",
        "\n",
        "print(\"\\nLightGBM (Tuned)\")\n",
        "print(\"Best Params:\", grid_lgbm.best_params_)\n",
        "print(confusion_matrix(y_tree_test, y_lgbm_tuned_pred))\n",
        "print(classification_report(y_tree_test, y_lgbm_tuned_pred))"
      ],
      "metadata": {
        "colab": {
          "base_uri": "https://localhost:8080/"
        },
        "id": "yp7y_HksbDIX",
        "outputId": "893edaf3-ad69-489d-82ae-1bfaf0b57566"
      },
      "execution_count": 39,
      "outputs": [
        {
          "output_type": "stream",
          "name": "stdout",
          "text": [
            "Fitting 5 folds for each of 8 candidates, totalling 40 fits\n"
          ]
        },
        {
          "output_type": "stream",
          "name": "stderr",
          "text": [
            "/usr/local/lib/python3.11/dist-packages/sklearn/utils/deprecation.py:151: FutureWarning: 'force_all_finite' was renamed to 'ensure_all_finite' in 1.6 and will be removed in 1.8.\n",
            "  warnings.warn(\n"
          ]
        },
        {
          "output_type": "stream",
          "name": "stdout",
          "text": [
            "[LightGBM] [Info] Number of positive: 1505, number of negative: 4111\n",
            "[LightGBM] [Info] Auto-choosing row-wise multi-threading, the overhead of testing was 0.000375 seconds.\n",
            "You can set `force_row_wise=true` to remove the overhead.\n",
            "And if memory is not enough, you can set `force_col_wise=true`.\n",
            "[LightGBM] [Info] Total Bins 630\n",
            "[LightGBM] [Info] Number of data points in the train set: 5616, number of used features: 27\n",
            "[LightGBM] [Info] [binary:BoostFromScore]: pavg=0.500000 -> initscore=-0.000000\n",
            "[LightGBM] [Info] Start training from score -0.000000\n",
            "\n",
            "LightGBM (Tuned)\n",
            "Best Params: {'classifier__learning_rate': 0.01, 'classifier__max_depth': 7, 'classifier__n_estimators': 200}\n",
            "[[766 287]\n",
            " [ 75 277]]\n",
            "              precision    recall  f1-score   support\n",
            "\n",
            "           0       0.91      0.73      0.81      1053\n",
            "           1       0.49      0.79      0.60       352\n",
            "\n",
            "    accuracy                           0.74      1405\n",
            "   macro avg       0.70      0.76      0.71      1405\n",
            "weighted avg       0.81      0.74      0.76      1405\n",
            "\n"
          ]
        },
        {
          "output_type": "stream",
          "name": "stderr",
          "text": [
            "/usr/local/lib/python3.11/dist-packages/sklearn/utils/deprecation.py:151: FutureWarning: 'force_all_finite' was renamed to 'ensure_all_finite' in 1.6 and will be removed in 1.8.\n",
            "  warnings.warn(\n"
          ]
        }
      ]
    },
    {
      "cell_type": "markdown",
      "source": [
        "#4-**STACKING CLASSIFIER**"
      ],
      "metadata": {
        "id": "nuvhSxTEbYS1"
      }
    },
    {
      "cell_type": "code",
      "source": [
        "\n",
        "stack_model = StackingClassifier(\n",
        "    estimators=[\n",
        "        ('lgbm', best_lgbm.named_steps['classifier']),\n",
        "        ('xgb', best_xgb.named_steps['classifier'])\n",
        "    ],\n",
        "    final_estimator=LGBMClassifier(class_weight='balanced', random_state=42)\n",
        ")\n",
        "\n",
        "pipe_stack = Pipeline(steps=[\n",
        "    ('preprocessor', preprocessor_tree),\n",
        "    ('classifier', stack_model)\n",
        "])\n",
        "pipe_stack.fit(X_tree_train, y_tree_train)\n",
        "y_stack_pred = pipe_stack.predict(X_tree_test)\n",
        "\n",
        "print(\"\\nStacking Classifier\")\n",
        "print(confusion_matrix(y_tree_test, y_stack_pred))\n",
        "print(classification_report(y_tree_test, y_stack_pred))"
      ],
      "metadata": {
        "id": "PZnYX6FHbOyO",
        "colab": {
          "base_uri": "https://localhost:8080/"
        },
        "outputId": "0f81a9db-25b6-4032-c79c-c89091a5cfe1"
      },
      "execution_count": 40,
      "outputs": [
        {
          "output_type": "stream",
          "name": "stderr",
          "text": [
            "/usr/local/lib/python3.11/dist-packages/sklearn/utils/deprecation.py:151: FutureWarning: 'force_all_finite' was renamed to 'ensure_all_finite' in 1.6 and will be removed in 1.8.\n",
            "  warnings.warn(\n"
          ]
        },
        {
          "output_type": "stream",
          "name": "stdout",
          "text": [
            "[LightGBM] [Info] Number of positive: 1505, number of negative: 4111\n",
            "[LightGBM] [Info] Auto-choosing row-wise multi-threading, the overhead of testing was 0.000383 seconds.\n",
            "You can set `force_row_wise=true` to remove the overhead.\n",
            "And if memory is not enough, you can set `force_col_wise=true`.\n",
            "[LightGBM] [Info] Total Bins 630\n",
            "[LightGBM] [Info] Number of data points in the train set: 5616, number of used features: 27\n",
            "[LightGBM] [Info] [binary:BoostFromScore]: pavg=0.500000 -> initscore=-0.000000\n",
            "[LightGBM] [Info] Start training from score -0.000000\n"
          ]
        },
        {
          "output_type": "stream",
          "name": "stderr",
          "text": [
            "/usr/local/lib/python3.11/dist-packages/xgboost/core.py:158: UserWarning: [21:03:28] WARNING: /workspace/src/learner.cc:740: \n",
            "Parameters: { \"use_label_encoder\" } are not used.\n",
            "\n",
            "  warnings.warn(smsg, UserWarning)\n",
            "/usr/local/lib/python3.11/dist-packages/sklearn/utils/deprecation.py:151: FutureWarning: 'force_all_finite' was renamed to 'ensure_all_finite' in 1.6 and will be removed in 1.8.\n",
            "  warnings.warn(\n"
          ]
        },
        {
          "output_type": "stream",
          "name": "stdout",
          "text": [
            "[LightGBM] [Info] Number of positive: 1204, number of negative: 3288\n",
            "[LightGBM] [Info] Auto-choosing row-wise multi-threading, the overhead of testing was 0.000318 seconds.\n",
            "You can set `force_row_wise=true` to remove the overhead.\n",
            "And if memory is not enough, you can set `force_col_wise=true`.\n",
            "[LightGBM] [Info] Total Bins 630\n",
            "[LightGBM] [Info] Number of data points in the train set: 4492, number of used features: 27\n",
            "[LightGBM] [Info] [binary:BoostFromScore]: pavg=0.500000 -> initscore=-0.000000\n",
            "[LightGBM] [Info] Start training from score -0.000000\n"
          ]
        },
        {
          "output_type": "stream",
          "name": "stderr",
          "text": [
            "/usr/local/lib/python3.11/dist-packages/sklearn/utils/deprecation.py:151: FutureWarning: 'force_all_finite' was renamed to 'ensure_all_finite' in 1.6 and will be removed in 1.8.\n",
            "  warnings.warn(\n",
            "/usr/local/lib/python3.11/dist-packages/sklearn/utils/deprecation.py:151: FutureWarning: 'force_all_finite' was renamed to 'ensure_all_finite' in 1.6 and will be removed in 1.8.\n",
            "  warnings.warn(\n"
          ]
        },
        {
          "output_type": "stream",
          "name": "stdout",
          "text": [
            "[LightGBM] [Info] Number of positive: 1204, number of negative: 3289\n",
            "[LightGBM] [Info] Auto-choosing row-wise multi-threading, the overhead of testing was 0.000328 seconds.\n",
            "You can set `force_row_wise=true` to remove the overhead.\n",
            "And if memory is not enough, you can set `force_col_wise=true`.\n",
            "[LightGBM] [Info] Total Bins 630\n",
            "[LightGBM] [Info] Number of data points in the train set: 4493, number of used features: 27\n",
            "[LightGBM] [Info] [binary:BoostFromScore]: pavg=0.500000 -> initscore=0.000000\n",
            "[LightGBM] [Info] Start training from score 0.000000\n"
          ]
        },
        {
          "output_type": "stream",
          "name": "stderr",
          "text": [
            "/usr/local/lib/python3.11/dist-packages/sklearn/utils/deprecation.py:151: FutureWarning: 'force_all_finite' was renamed to 'ensure_all_finite' in 1.6 and will be removed in 1.8.\n",
            "  warnings.warn(\n",
            "/usr/local/lib/python3.11/dist-packages/sklearn/utils/deprecation.py:151: FutureWarning: 'force_all_finite' was renamed to 'ensure_all_finite' in 1.6 and will be removed in 1.8.\n",
            "  warnings.warn(\n"
          ]
        },
        {
          "output_type": "stream",
          "name": "stdout",
          "text": [
            "[LightGBM] [Info] Number of positive: 1204, number of negative: 3289\n",
            "[LightGBM] [Info] Auto-choosing row-wise multi-threading, the overhead of testing was 0.000312 seconds.\n",
            "You can set `force_row_wise=true` to remove the overhead.\n",
            "And if memory is not enough, you can set `force_col_wise=true`.\n",
            "[LightGBM] [Info] Total Bins 630\n",
            "[LightGBM] [Info] Number of data points in the train set: 4493, number of used features: 27\n",
            "[LightGBM] [Info] [binary:BoostFromScore]: pavg=0.500000 -> initscore=0.000000\n",
            "[LightGBM] [Info] Start training from score 0.000000\n"
          ]
        },
        {
          "output_type": "stream",
          "name": "stderr",
          "text": [
            "/usr/local/lib/python3.11/dist-packages/sklearn/utils/deprecation.py:151: FutureWarning: 'force_all_finite' was renamed to 'ensure_all_finite' in 1.6 and will be removed in 1.8.\n",
            "  warnings.warn(\n",
            "/usr/local/lib/python3.11/dist-packages/sklearn/utils/deprecation.py:151: FutureWarning: 'force_all_finite' was renamed to 'ensure_all_finite' in 1.6 and will be removed in 1.8.\n",
            "  warnings.warn(\n"
          ]
        },
        {
          "output_type": "stream",
          "name": "stdout",
          "text": [
            "[LightGBM] [Info] Number of positive: 1204, number of negative: 3289\n",
            "[LightGBM] [Info] Auto-choosing row-wise multi-threading, the overhead of testing was 0.000312 seconds.\n",
            "You can set `force_row_wise=true` to remove the overhead.\n",
            "And if memory is not enough, you can set `force_col_wise=true`.\n",
            "[LightGBM] [Info] Total Bins 630\n",
            "[LightGBM] [Info] Number of data points in the train set: 4493, number of used features: 27\n",
            "[LightGBM] [Info] [binary:BoostFromScore]: pavg=0.500000 -> initscore=0.000000\n",
            "[LightGBM] [Info] Start training from score 0.000000\n"
          ]
        },
        {
          "output_type": "stream",
          "name": "stderr",
          "text": [
            "/usr/local/lib/python3.11/dist-packages/sklearn/utils/deprecation.py:151: FutureWarning: 'force_all_finite' was renamed to 'ensure_all_finite' in 1.6 and will be removed in 1.8.\n",
            "  warnings.warn(\n",
            "/usr/local/lib/python3.11/dist-packages/sklearn/utils/deprecation.py:151: FutureWarning: 'force_all_finite' was renamed to 'ensure_all_finite' in 1.6 and will be removed in 1.8.\n",
            "  warnings.warn(\n"
          ]
        },
        {
          "output_type": "stream",
          "name": "stdout",
          "text": [
            "[LightGBM] [Info] Number of positive: 1204, number of negative: 3289\n",
            "[LightGBM] [Info] Auto-choosing row-wise multi-threading, the overhead of testing was 0.000304 seconds.\n",
            "You can set `force_row_wise=true` to remove the overhead.\n",
            "And if memory is not enough, you can set `force_col_wise=true`.\n",
            "[LightGBM] [Info] Total Bins 630\n",
            "[LightGBM] [Info] Number of data points in the train set: 4493, number of used features: 27\n",
            "[LightGBM] [Info] [binary:BoostFromScore]: pavg=0.500000 -> initscore=0.000000\n",
            "[LightGBM] [Info] Start training from score 0.000000\n"
          ]
        },
        {
          "output_type": "stream",
          "name": "stderr",
          "text": [
            "/usr/local/lib/python3.11/dist-packages/sklearn/utils/deprecation.py:151: FutureWarning: 'force_all_finite' was renamed to 'ensure_all_finite' in 1.6 and will be removed in 1.8.\n",
            "  warnings.warn(\n",
            "/usr/local/lib/python3.11/dist-packages/xgboost/core.py:158: UserWarning: [21:03:30] WARNING: /workspace/src/learner.cc:740: \n",
            "Parameters: { \"use_label_encoder\" } are not used.\n",
            "\n",
            "  warnings.warn(smsg, UserWarning)\n"
          ]
        },
        {
          "output_type": "stream",
          "name": "stdout",
          "text": [
            "[LightGBM] [Info] Number of positive: 1505, number of negative: 4111\n",
            "[LightGBM] [Info] Auto-choosing col-wise multi-threading, the overhead of testing was 0.000226 seconds.\n",
            "You can set `force_col_wise=true` to remove the overhead.\n",
            "[LightGBM] [Info] Total Bins 510\n",
            "[LightGBM] [Info] Number of data points in the train set: 5616, number of used features: 2\n",
            "[LightGBM] [Info] [binary:BoostFromScore]: pavg=0.500000 -> initscore=-0.000000\n",
            "[LightGBM] [Info] Start training from score -0.000000\n",
            "\n",
            "Stacking Classifier\n",
            "[[762 291]\n",
            " [ 80 272]]\n",
            "              precision    recall  f1-score   support\n",
            "\n",
            "           0       0.90      0.72      0.80      1053\n",
            "           1       0.48      0.77      0.59       352\n",
            "\n",
            "    accuracy                           0.74      1405\n",
            "   macro avg       0.69      0.75      0.70      1405\n",
            "weighted avg       0.80      0.74      0.75      1405\n",
            "\n"
          ]
        },
        {
          "output_type": "stream",
          "name": "stderr",
          "text": [
            "/usr/local/lib/python3.11/dist-packages/sklearn/utils/deprecation.py:151: FutureWarning: 'force_all_finite' was renamed to 'ensure_all_finite' in 1.6 and will be removed in 1.8.\n",
            "  warnings.warn(\n",
            "/usr/local/lib/python3.11/dist-packages/sklearn/utils/deprecation.py:151: FutureWarning: 'force_all_finite' was renamed to 'ensure_all_finite' in 1.6 and will be removed in 1.8.\n",
            "  warnings.warn(\n",
            "/usr/local/lib/python3.11/dist-packages/sklearn/utils/deprecation.py:151: FutureWarning: 'force_all_finite' was renamed to 'ensure_all_finite' in 1.6 and will be removed in 1.8.\n",
            "  warnings.warn(\n"
          ]
        }
      ]
    },
    {
      "cell_type": "markdown",
      "source": [
        "**try oversampling method**"
      ],
      "metadata": {
        "id": "U6BW20kJt1Kc"
      }
    },
    {
      "cell_type": "code",
      "source": [
        "!pip install -U imbalanced-learn\n"
      ],
      "metadata": {
        "colab": {
          "base_uri": "https://localhost:8080/"
        },
        "id": "FNZp6W16uP_s",
        "outputId": "f0bb0110-fafb-4a55-eecb-06e73bcc0ba5"
      },
      "execution_count": 41,
      "outputs": [
        {
          "output_type": "stream",
          "name": "stdout",
          "text": [
            "Requirement already satisfied: imbalanced-learn in /usr/local/lib/python3.11/dist-packages (0.13.0)\n",
            "Requirement already satisfied: numpy<3,>=1.24.3 in /usr/local/lib/python3.11/dist-packages (from imbalanced-learn) (2.0.2)\n",
            "Requirement already satisfied: scipy<2,>=1.10.1 in /usr/local/lib/python3.11/dist-packages (from imbalanced-learn) (1.15.3)\n",
            "Requirement already satisfied: scikit-learn<2,>=1.3.2 in /usr/local/lib/python3.11/dist-packages (from imbalanced-learn) (1.6.1)\n",
            "Requirement already satisfied: sklearn-compat<1,>=0.1 in /usr/local/lib/python3.11/dist-packages (from imbalanced-learn) (0.1.3)\n",
            "Requirement already satisfied: joblib<2,>=1.1.1 in /usr/local/lib/python3.11/dist-packages (from imbalanced-learn) (1.5.0)\n",
            "Requirement already satisfied: threadpoolctl<4,>=2.0.0 in /usr/local/lib/python3.11/dist-packages (from imbalanced-learn) (3.6.0)\n"
          ]
        }
      ]
    },
    {
      "cell_type": "code",
      "source": [
        "X_lr_train_enc = preprocessor_lr.fit_transform(X_lr_train)\n",
        "X_lr_test_enc = preprocessor_lr.transform(X_lr_test)\n",
        "\n",
        "X_tree_train_enc = preprocessor_tree.fit_transform(X_tree_train)\n",
        "X_tree_test_enc = preprocessor_tree.transform(X_tree_test)\n",
        "\n",
        "# 🔹 Step 2: Apply SMOTE\n",
        "sm = SMOTE(random_state=42)\n",
        "X_lr_res, y_lr_res = sm.fit_resample(X_lr_train_enc, y_lr_train)\n",
        "X_tree_res, y_tree_res = sm.fit_resample(X_tree_train_enc, y_tree_train)"
      ],
      "metadata": {
        "id": "_1tImomsGZWy"
      },
      "execution_count": 42,
      "outputs": []
    },
    {
      "cell_type": "code",
      "source": [
        "lr_smote = LogisticRegression(max_iter=1000)\n",
        "lr_smote.fit(X_lr_res, y_lr_res)\n",
        "y_lr_pred_smote = lr_smote.predict(X_lr_test_enc)\n",
        "\n",
        "print(\"Logistic Regression (SMOTE)\")\n",
        "print(confusion_matrix(y_lr_test, y_lr_pred_smote))\n",
        "print(classification_report(y_lr_test, y_lr_pred_smote))"
      ],
      "metadata": {
        "colab": {
          "base_uri": "https://localhost:8080/"
        },
        "id": "EoZOLQYtGgNc",
        "outputId": "0f1f5d2f-8842-4f51-b281-78f1d6d0c284"
      },
      "execution_count": 43,
      "outputs": [
        {
          "output_type": "stream",
          "name": "stdout",
          "text": [
            "Logistic Regression (SMOTE)\n",
            "[[779 274]\n",
            " [ 74 278]]\n",
            "              precision    recall  f1-score   support\n",
            "\n",
            "           0       0.91      0.74      0.82      1053\n",
            "           1       0.50      0.79      0.62       352\n",
            "\n",
            "    accuracy                           0.75      1405\n",
            "   macro avg       0.71      0.76      0.72      1405\n",
            "weighted avg       0.81      0.75      0.77      1405\n",
            "\n"
          ]
        }
      ]
    },
    {
      "cell_type": "code",
      "source": [
        "lgbm_smote = LGBMClassifier(random_state=42)\n",
        "lgbm_smote.fit(X_tree_res, y_tree_res)\n",
        "y_lgbm_pred_smote = lgbm_smote.predict(X_tree_test_enc)\n",
        "\n",
        "print(\"LightGBM (SMOTE)\")\n",
        "print(confusion_matrix(y_tree_test, y_lgbm_pred_smote))\n",
        "print(classification_report(y_tree_test, y_lgbm_pred_smote))\n"
      ],
      "metadata": {
        "colab": {
          "base_uri": "https://localhost:8080/"
        },
        "id": "3snE1j2BGlDs",
        "outputId": "37073ea2-e657-483d-c4f6-5cc1b1cb306b"
      },
      "execution_count": 44,
      "outputs": [
        {
          "output_type": "stream",
          "name": "stdout",
          "text": [
            "[LightGBM] [Info] Number of positive: 4111, number of negative: 4111\n",
            "[LightGBM] [Info] Auto-choosing row-wise multi-threading, the overhead of testing was 0.002119 seconds.\n",
            "You can set `force_row_wise=true` to remove the overhead.\n",
            "And if memory is not enough, you can set `force_col_wise=true`.\n",
            "[LightGBM] [Info] Total Bins 1601\n",
            "[LightGBM] [Info] Number of data points in the train set: 8222, number of used features: 27\n",
            "[LightGBM] [Info] [binary:BoostFromScore]: pavg=0.500000 -> initscore=0.000000\n"
          ]
        },
        {
          "output_type": "stream",
          "name": "stderr",
          "text": [
            "/usr/local/lib/python3.11/dist-packages/sklearn/utils/deprecation.py:151: FutureWarning: 'force_all_finite' was renamed to 'ensure_all_finite' in 1.6 and will be removed in 1.8.\n",
            "  warnings.warn(\n"
          ]
        },
        {
          "output_type": "stream",
          "name": "stdout",
          "text": [
            "LightGBM (SMOTE)\n",
            "[[873 180]\n",
            " [125 227]]\n",
            "              precision    recall  f1-score   support\n",
            "\n",
            "           0       0.87      0.83      0.85      1053\n",
            "           1       0.56      0.64      0.60       352\n",
            "\n",
            "    accuracy                           0.78      1405\n",
            "   macro avg       0.72      0.74      0.72      1405\n",
            "weighted avg       0.80      0.78      0.79      1405\n",
            "\n"
          ]
        },
        {
          "output_type": "stream",
          "name": "stderr",
          "text": [
            "/usr/local/lib/python3.11/dist-packages/sklearn/utils/deprecation.py:151: FutureWarning: 'force_all_finite' was renamed to 'ensure_all_finite' in 1.6 and will be removed in 1.8.\n",
            "  warnings.warn(\n"
          ]
        }
      ]
    },
    {
      "cell_type": "code",
      "source": [
        "xgb_smote = XGBClassifier(use_label_encoder=False, eval_metric='logloss', random_state=42)\n",
        "xgb_smote.fit(X_tree_res, y_tree_res)\n",
        "y_xgb_pred_smote = xgb_smote.predict(X_tree_test_enc)\n",
        "\n",
        "print(\"XGBoost (SMOTE)\")\n",
        "print(confusion_matrix(y_tree_test, y_xgb_pred_smote))\n",
        "print(classification_report(y_tree_test, y_xgb_pred_smote))\n"
      ],
      "metadata": {
        "colab": {
          "base_uri": "https://localhost:8080/"
        },
        "id": "SE1Gi2MKGrQo",
        "outputId": "ddbe0e32-6b2b-4c8a-9ceb-4b27d6b3c3c0"
      },
      "execution_count": 45,
      "outputs": [
        {
          "output_type": "stream",
          "name": "stderr",
          "text": [
            "/usr/local/lib/python3.11/dist-packages/xgboost/core.py:158: UserWarning: [21:03:35] WARNING: /workspace/src/learner.cc:740: \n",
            "Parameters: { \"use_label_encoder\" } are not used.\n",
            "\n",
            "  warnings.warn(smsg, UserWarning)\n"
          ]
        },
        {
          "output_type": "stream",
          "name": "stdout",
          "text": [
            "XGBoost (SMOTE)\n",
            "[[864 189]\n",
            " [135 217]]\n",
            "              precision    recall  f1-score   support\n",
            "\n",
            "           0       0.86      0.82      0.84      1053\n",
            "           1       0.53      0.62      0.57       352\n",
            "\n",
            "    accuracy                           0.77      1405\n",
            "   macro avg       0.70      0.72      0.71      1405\n",
            "weighted avg       0.78      0.77      0.77      1405\n",
            "\n"
          ]
        }
      ]
    },
    {
      "cell_type": "code",
      "source": [
        "stack_smote = StackingClassifier(\n",
        "    estimators=[\n",
        "        ('lgbm', lgbm_smote),\n",
        "        ('xgb', xgb_smote)\n",
        "    ],\n",
        "    final_estimator=LGBMClassifier(random_state=42)\n",
        ")\n",
        "stack_smote.fit(X_tree_res, y_tree_res)\n",
        "y_stack_pred_smote = stack_smote.predict(X_tree_test_enc)\n",
        "\n",
        "print(\"Stacking Classifier (SMOTE)\")\n",
        "print(confusion_matrix(y_tree_test, y_stack_pred_smote))\n",
        "print(classification_report(y_tree_test, y_stack_pred_smote))\n"
      ],
      "metadata": {
        "colab": {
          "base_uri": "https://localhost:8080/"
        },
        "id": "y1s2l6LyGvDP",
        "outputId": "21372c43-9838-4531-afce-fb4fd6d655e9"
      },
      "execution_count": 46,
      "outputs": [
        {
          "output_type": "stream",
          "name": "stdout",
          "text": [
            "[LightGBM] [Info] Number of positive: 4111, number of negative: 4111\n",
            "[LightGBM] [Info] Auto-choosing row-wise multi-threading, the overhead of testing was 0.001513 seconds.\n",
            "You can set `force_row_wise=true` to remove the overhead.\n",
            "And if memory is not enough, you can set `force_col_wise=true`.\n",
            "[LightGBM] [Info] Total Bins 1601\n",
            "[LightGBM] [Info] Number of data points in the train set: 8222, number of used features: 27\n",
            "[LightGBM] [Info] [binary:BoostFromScore]: pavg=0.500000 -> initscore=0.000000\n"
          ]
        },
        {
          "output_type": "stream",
          "name": "stderr",
          "text": [
            "/usr/local/lib/python3.11/dist-packages/sklearn/utils/deprecation.py:151: FutureWarning: 'force_all_finite' was renamed to 'ensure_all_finite' in 1.6 and will be removed in 1.8.\n",
            "  warnings.warn(\n",
            "/usr/local/lib/python3.11/dist-packages/xgboost/core.py:158: UserWarning: [21:03:36] WARNING: /workspace/src/learner.cc:740: \n",
            "Parameters: { \"use_label_encoder\" } are not used.\n",
            "\n",
            "  warnings.warn(smsg, UserWarning)\n",
            "/usr/local/lib/python3.11/dist-packages/sklearn/utils/deprecation.py:151: FutureWarning: 'force_all_finite' was renamed to 'ensure_all_finite' in 1.6 and will be removed in 1.8.\n",
            "  warnings.warn(\n"
          ]
        },
        {
          "output_type": "stream",
          "name": "stdout",
          "text": [
            "[LightGBM] [Info] Number of positive: 3288, number of negative: 3289\n",
            "[LightGBM] [Info] Auto-choosing row-wise multi-threading, the overhead of testing was 0.001235 seconds.\n",
            "You can set `force_row_wise=true` to remove the overhead.\n",
            "And if memory is not enough, you can set `force_col_wise=true`.\n",
            "[LightGBM] [Info] Total Bins 1601\n",
            "[LightGBM] [Info] Number of data points in the train set: 6577, number of used features: 27\n",
            "[LightGBM] [Info] [binary:BoostFromScore]: pavg=0.499924 -> initscore=-0.000304\n",
            "[LightGBM] [Info] Start training from score -0.000304\n"
          ]
        },
        {
          "output_type": "stream",
          "name": "stderr",
          "text": [
            "/usr/local/lib/python3.11/dist-packages/sklearn/utils/deprecation.py:151: FutureWarning: 'force_all_finite' was renamed to 'ensure_all_finite' in 1.6 and will be removed in 1.8.\n",
            "  warnings.warn(\n",
            "/usr/local/lib/python3.11/dist-packages/sklearn/utils/deprecation.py:151: FutureWarning: 'force_all_finite' was renamed to 'ensure_all_finite' in 1.6 and will be removed in 1.8.\n",
            "  warnings.warn(\n"
          ]
        },
        {
          "output_type": "stream",
          "name": "stdout",
          "text": [
            "[LightGBM] [Info] Number of positive: 3289, number of negative: 3288\n",
            "[LightGBM] [Info] Auto-choosing row-wise multi-threading, the overhead of testing was 0.001588 seconds.\n",
            "You can set `force_row_wise=true` to remove the overhead.\n",
            "And if memory is not enough, you can set `force_col_wise=true`.\n",
            "[LightGBM] [Info] Total Bins 1557\n",
            "[LightGBM] [Info] Number of data points in the train set: 6577, number of used features: 27\n",
            "[LightGBM] [Info] [binary:BoostFromScore]: pavg=0.500076 -> initscore=0.000304\n",
            "[LightGBM] [Info] Start training from score 0.000304\n"
          ]
        },
        {
          "output_type": "stream",
          "name": "stderr",
          "text": [
            "/usr/local/lib/python3.11/dist-packages/sklearn/utils/deprecation.py:151: FutureWarning: 'force_all_finite' was renamed to 'ensure_all_finite' in 1.6 and will be removed in 1.8.\n",
            "  warnings.warn(\n",
            "/usr/local/lib/python3.11/dist-packages/sklearn/utils/deprecation.py:151: FutureWarning: 'force_all_finite' was renamed to 'ensure_all_finite' in 1.6 and will be removed in 1.8.\n",
            "  warnings.warn(\n"
          ]
        },
        {
          "output_type": "stream",
          "name": "stdout",
          "text": [
            "[LightGBM] [Info] Number of positive: 3289, number of negative: 3289\n",
            "[LightGBM] [Info] Auto-choosing row-wise multi-threading, the overhead of testing was 0.001289 seconds.\n",
            "You can set `force_row_wise=true` to remove the overhead.\n",
            "And if memory is not enough, you can set `force_col_wise=true`.\n",
            "[LightGBM] [Info] Total Bins 1356\n",
            "[LightGBM] [Info] Number of data points in the train set: 6578, number of used features: 27\n",
            "[LightGBM] [Info] [binary:BoostFromScore]: pavg=0.500000 -> initscore=0.000000\n"
          ]
        },
        {
          "output_type": "stream",
          "name": "stderr",
          "text": [
            "/usr/local/lib/python3.11/dist-packages/sklearn/utils/deprecation.py:151: FutureWarning: 'force_all_finite' was renamed to 'ensure_all_finite' in 1.6 and will be removed in 1.8.\n",
            "  warnings.warn(\n",
            "/usr/local/lib/python3.11/dist-packages/sklearn/utils/deprecation.py:151: FutureWarning: 'force_all_finite' was renamed to 'ensure_all_finite' in 1.6 and will be removed in 1.8.\n",
            "  warnings.warn(\n"
          ]
        },
        {
          "output_type": "stream",
          "name": "stdout",
          "text": [
            "[LightGBM] [Info] Number of positive: 3289, number of negative: 3289\n",
            "[LightGBM] [Info] Auto-choosing row-wise multi-threading, the overhead of testing was 0.001605 seconds.\n",
            "You can set `force_row_wise=true` to remove the overhead.\n",
            "And if memory is not enough, you can set `force_col_wise=true`.\n",
            "[LightGBM] [Info] Total Bins 1354\n",
            "[LightGBM] [Info] Number of data points in the train set: 6578, number of used features: 27\n",
            "[LightGBM] [Info] [binary:BoostFromScore]: pavg=0.500000 -> initscore=0.000000\n"
          ]
        },
        {
          "output_type": "stream",
          "name": "stderr",
          "text": [
            "/usr/local/lib/python3.11/dist-packages/sklearn/utils/deprecation.py:151: FutureWarning: 'force_all_finite' was renamed to 'ensure_all_finite' in 1.6 and will be removed in 1.8.\n",
            "  warnings.warn(\n",
            "/usr/local/lib/python3.11/dist-packages/sklearn/utils/deprecation.py:151: FutureWarning: 'force_all_finite' was renamed to 'ensure_all_finite' in 1.6 and will be removed in 1.8.\n",
            "  warnings.warn(\n"
          ]
        },
        {
          "output_type": "stream",
          "name": "stdout",
          "text": [
            "[LightGBM] [Info] Number of positive: 3289, number of negative: 3289\n",
            "[LightGBM] [Info] Auto-choosing row-wise multi-threading, the overhead of testing was 0.001362 seconds.\n",
            "You can set `force_row_wise=true` to remove the overhead.\n",
            "And if memory is not enough, you can set `force_col_wise=true`.\n",
            "[LightGBM] [Info] Total Bins 1340\n",
            "[LightGBM] [Info] Number of data points in the train set: 6578, number of used features: 27\n",
            "[LightGBM] [Info] [binary:BoostFromScore]: pavg=0.500000 -> initscore=0.000000\n"
          ]
        },
        {
          "output_type": "stream",
          "name": "stderr",
          "text": [
            "/usr/local/lib/python3.11/dist-packages/sklearn/utils/deprecation.py:151: FutureWarning: 'force_all_finite' was renamed to 'ensure_all_finite' in 1.6 and will be removed in 1.8.\n",
            "  warnings.warn(\n",
            "/usr/local/lib/python3.11/dist-packages/xgboost/core.py:158: UserWarning: [21:03:40] WARNING: /workspace/src/learner.cc:740: \n",
            "Parameters: { \"use_label_encoder\" } are not used.\n",
            "\n",
            "  warnings.warn(smsg, UserWarning)\n",
            "/usr/local/lib/python3.11/dist-packages/xgboost/core.py:158: UserWarning: [21:03:48] WARNING: /workspace/src/learner.cc:740: \n",
            "Parameters: { \"use_label_encoder\" } are not used.\n",
            "\n",
            "  warnings.warn(smsg, UserWarning)\n",
            "/usr/local/lib/python3.11/dist-packages/xgboost/core.py:158: UserWarning: [21:03:57] WARNING: /workspace/src/learner.cc:740: \n",
            "Parameters: { \"use_label_encoder\" } are not used.\n",
            "\n",
            "  warnings.warn(smsg, UserWarning)\n",
            "/usr/local/lib/python3.11/dist-packages/xgboost/core.py:158: UserWarning: [21:04:02] WARNING: /workspace/src/learner.cc:740: \n",
            "Parameters: { \"use_label_encoder\" } are not used.\n",
            "\n",
            "  warnings.warn(smsg, UserWarning)\n"
          ]
        },
        {
          "output_type": "stream",
          "name": "stdout",
          "text": [
            "[LightGBM] [Info] Number of positive: 4111, number of negative: 4111\n",
            "[LightGBM] [Info] Auto-choosing col-wise multi-threading, the overhead of testing was 0.000315 seconds.\n",
            "You can set `force_col_wise=true` to remove the overhead.\n",
            "[LightGBM] [Info] Total Bins 510\n",
            "[LightGBM] [Info] Number of data points in the train set: 8222, number of used features: 2\n",
            "[LightGBM] [Info] [binary:BoostFromScore]: pavg=0.500000 -> initscore=0.000000\n",
            "Stacking Classifier (SMOTE)\n",
            "[[877 176]\n",
            " [136 216]]\n",
            "              precision    recall  f1-score   support\n",
            "\n",
            "           0       0.87      0.83      0.85      1053\n",
            "           1       0.55      0.61      0.58       352\n",
            "\n",
            "    accuracy                           0.78      1405\n",
            "   macro avg       0.71      0.72      0.71      1405\n",
            "weighted avg       0.79      0.78      0.78      1405\n",
            "\n"
          ]
        },
        {
          "output_type": "stream",
          "name": "stderr",
          "text": [
            "/usr/local/lib/python3.11/dist-packages/sklearn/utils/deprecation.py:151: FutureWarning: 'force_all_finite' was renamed to 'ensure_all_finite' in 1.6 and will be removed in 1.8.\n",
            "  warnings.warn(\n",
            "/usr/local/lib/python3.11/dist-packages/sklearn/utils/deprecation.py:151: FutureWarning: 'force_all_finite' was renamed to 'ensure_all_finite' in 1.6 and will be removed in 1.8.\n",
            "  warnings.warn(\n",
            "/usr/local/lib/python3.11/dist-packages/sklearn/utils/deprecation.py:151: FutureWarning: 'force_all_finite' was renamed to 'ensure_all_finite' in 1.6 and will be removed in 1.8.\n",
            "  warnings.warn(\n"
          ]
        }
      ]
    },
    {
      "cell_type": "markdown",
      "source": [
        "## **Conclusion**"
      ],
      "metadata": {
        "id": "9JukqxYvKMUL"
      }
    },
    {
      "cell_type": "markdown",
      "source": [
        "**Our business goal is to catch churned customers**\n",
        "so our top priority :\n",
        "\n",
        "✅ High Recall for Class 1 (Churn)\n",
        "To reduce false negatives — we don’t want to miss customers who are about to leave.\n",
        "\n",
        "✅ But also aim for:\n",
        "Acceptable Precision — so you're not wasting effort/resources on customers who weren’t really at risk\n",
        "\n"
      ],
      "metadata": {
        "id": "FoLjhwf7Kq3g"
      }
    },
    {
      "cell_type": "markdown",
      "source": [
        "##  Model Comparison: Focus on Churn Class (1) – Precision vs Recall\n",
        "\n",
        "Since our objective is to catch as many churned customers as possible, **Recall for Class 1 (Churn)** is our top priority. However, we also want **Precision** to remain acceptable to avoid too many false alarms.\n",
        "\n",
        "| Model                          | Precision (Churn) | Recall (Churn) | F1-score | Comment                                     |\n",
        "|-------------------------------|-------------------|----------------|----------|---------------------------------------------|\n",
        "| Logistic Regression (Base)    | 0.81              | 0.49           | 0.61     | High precision but low recall               |\n",
        "| Logistic Regression (Tuned)   | 0.48              | 0.80           | 0.60     | High recall, decent tradeoff                |\n",
        "| **Logistic Regression (SMOTE)**| **0.50**          | **0.79**       | 0.62     | Strong balance using SMOTE                  |\n",
        "| XGBoost (Base)                | 0.49              | 0.65           | 0.56     | Low recall compared to others               |\n",
        "| XGBoost (Tuned)               | 0.50              | 0.78           | 0.61     | High recall, improved over base             |\n",
        "| **XGBoost (SMOTE)**           | 0.53              | 0.62           | 0.57     | Best precision with decent recall           |\n",
        "| LightGBM (Base)               | 0.49              | 0.73           | 0.59     | Good recall                                 |\n",
        "| LightGBM (Tuned)              | 0.49              | 0.79           | 0.60     | Best recall overall                         |\n",
        "| Stacking Classifier (Base)    | 0.48              | 0.77           | 0.59     | High recall, low precision                  |\n",
        "| **Stacking Classifier (SMOTE)**| 0.55              | 0.61           | 0.58     | Best balance between precision & recall     |\n",
        "\n",
        "---\n",
        "\n"
      ],
      "metadata": {
        "id": "sl7g4_w6LIjY"
      }
    },
    {
      "cell_type": "markdown",
      "source": [
        "**Candidate Models Summary (for Churn Class):**"
      ],
      "metadata": {
        "id": "FMEqXl0zLrDP"
      }
    },
    {
      "cell_type": "markdown",
      "source": [
        "| Model                       | Recall | Precision | F1-score | Notes                                          |\n",
        "| --------------------------- | ------ | --------- | -------- | ---------------------------------------------- |\n",
        "| Logistic Regression (SMOTE) | 0.79   | 0.50      | 0.62     | High recall, interpretable, simple to deploy ✅ |\n",
        "| LightGBM (Tuned)            | 0.79   | 0.49      | 0.60     | Highest recall but slightly lower precision    |\n",
        "| XGBoost (SMOTE)             | 0.62   | 0.53      | 0.57     | Balanced, more conservative                    |\n",
        "| Stacking (SMOTE)            | 0.61   | 0.55      | 0.58     | Balanced but slightly lower recall             |\n"
      ],
      "metadata": {
        "id": "NVLtJQWrLj05"
      }
    },
    {
      "cell_type": "markdown",
      "source": [
        "\n",
        "Logistic Regression with SMOTE is the best model to deploy in our case:\n",
        "\n",
        "\n",
        "1.   It gives very high recall (0.79)\n",
        "2.   Is easy to explain to stakeholders\n",
        "3. Fast to serve in APIs\n",
        "4. Lightweight for cloud or edge deployment\n",
        "5. Precision is reasonable (0.50) .\n",
        "\n",
        "\n",
        "\n",
        "\n"
      ],
      "metadata": {
        "id": "Ldm3HwElMC-x"
      }
    },
    {
      "cell_type": "markdown",
      "source": [
        "**SAVE Logistic Regression with SMOTE**"
      ],
      "metadata": {
        "id": "5-zt0addnw8i"
      }
    },
    {
      "cell_type": "code",
      "source": [
        "# Save the fitted model\n",
        "joblib.dump(lr_smote, 'logistic_smote_model.pkl')\n",
        "\n",
        "#  save the preprocessor\n",
        "joblib.dump(preprocessor_lr, 'preprocessor_lr.pkl')"
      ],
      "metadata": {
        "colab": {
          "base_uri": "https://localhost:8080/"
        },
        "id": "cD98_Yumn37t",
        "outputId": "1d485245-f347-48ac-9a8f-ac2117429988"
      },
      "execution_count": 47,
      "outputs": [
        {
          "output_type": "execute_result",
          "data": {
            "text/plain": [
              "['preprocessor_lr.pkl']"
            ]
          },
          "metadata": {},
          "execution_count": 47
        }
      ]
    },
    {
      "cell_type": "code",
      "source": [],
      "metadata": {
        "id": "Aa5m3dPh1QAP"
      },
      "execution_count": 47,
      "outputs": []
    }
  ]
}